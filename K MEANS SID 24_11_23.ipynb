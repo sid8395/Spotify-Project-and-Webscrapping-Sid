{
 "cells": [
  {
   "cell_type": "markdown",
   "id": "7e3d6056",
   "metadata": {},
   "source": [
    "# IMPORTING AND CREATING A SINGLE DF "
   ]
  },
  {
   "cell_type": "code",
   "execution_count": 1,
   "id": "10542b96",
   "metadata": {},
   "outputs": [],
   "source": [
    "import pandas as pd\n",
    "import glob\n",
    "import matplotlib.pyplot as plt"
   ]
  },
  {
   "cell_type": "code",
   "execution_count": 2,
   "id": "16620ba1",
   "metadata": {},
   "outputs": [],
   "source": [
    "import numpy as np\n",
    "import pandas as pd\n",
    "import pickle\n",
    "from sklearn import datasets # sklearn comes with some toy datasets to practice\n",
    "from sklearn.preprocessing import StandardScaler\n",
    "from sklearn.cluster import KMeans\n",
    "import matplotlib.pyplot as plt\n",
    "from sklearn.metrics import silhouette_score"
   ]
  },
  {
   "cell_type": "code",
   "execution_count": 3,
   "id": "f56403b7",
   "metadata": {},
   "outputs": [],
   "source": [
    "files_path = ['top_100most_popular_country_songs_df.csv',\n",
    "              'top_100most_popular_hippop_songs_df.csv',\n",
    "              'top_100most_popular_rock_songs_df.csv',\n",
    "             'top_100most_popular_2000s_songs_df.csv',\n",
    "'top_100most_popular_BLUES_CLASSIC_songs_df.csv',\n",
    "'top_100most_popular_BRITPOP_songs_df.csv',\n",
    "'top_100most_popular_DISCO_songs_df.csv',\n",
    "'top_100most_popular_GOSPEL_songs_df.csv',\n",
    "'top_100most_popular_GRIME_songs_df.csv',\n",
    "'top_100most_popular_INDIE_FOLK_songs_df.csv',\n",
    "'top_100most_popular_JAPANESE_songs_df.csv',\n",
    "'top_100most_popular_JAZZ_songs_df.csv',\n",
    "'top_100most_popular_LATIN_AMR_songs_df.csv',\n",
    "'top_100most_popular_PSYCHADELIC_songs_df.csv',\n",
    "'top_100most_popular_techno_songs_df.csv',\n",
    "'top_100best_reggaeton_songs_df.csv',           \n",
    "]\n"
   ]
  },
  {
   "cell_type": "code",
   "execution_count": 4,
   "id": "2fd86e8a",
   "metadata": {},
   "outputs": [],
   "source": [
    "spotify_df = pd.DataFrame()"
   ]
  },
  {
   "cell_type": "code",
   "execution_count": 5,
   "id": "57fc29c4",
   "metadata": {},
   "outputs": [],
   "source": [
    "for file_path in files_path:\n",
    "    df = pd.read_csv(file_path)\n",
    "    spotify_df = pd.concat([spotify_df, df], ignore_index=True)"
   ]
  },
  {
   "cell_type": "code",
   "execution_count": 6,
   "id": "6bf531dd",
   "metadata": {},
   "outputs": [
    {
     "name": "stdout",
     "output_type": "stream",
     "text": [
      "      danceability  energy  key  loudness  mode  speechiness  acousticness  \\\n",
      "0            0.687   0.745    6    -4.432     1       0.0379         0.178   \n",
      "1            0.392   0.370    9   -10.888     1       0.0298         0.205   \n",
      "2            0.617   0.741    2    -3.970     1       0.0311         0.131   \n",
      "3            0.607   0.536   10    -7.306     1       0.0305         0.386   \n",
      "4            0.677   0.556    9    -6.544     1       0.0306         0.263   \n",
      "...            ...     ...  ...       ...   ...          ...           ...   \n",
      "1468         0.808   0.697   10    -5.899     1       0.2410         0.041   \n",
      "1469         0.826   0.704    9    -7.527     1       0.1170         0.189   \n",
      "1470         0.815   0.856    1    -3.825     0       0.1220         0.400   \n",
      "1471         0.736   0.848    5    -5.242     1       0.1020         0.278   \n",
      "1472         0.852   0.797    0    -6.543     1       0.0614         0.322   \n",
      "\n",
      "      instrumentalness  liveness  valence    tempo            type  \\\n",
      "0             0.000016    0.1110    0.435  129.966  audio_features   \n",
      "1             0.009600    0.0821    0.512   48.718  audio_features   \n",
      "2             0.000000    0.0772    0.306  118.984  audio_features   \n",
      "3             0.000000    0.1020    0.434  147.986  audio_features   \n",
      "4             0.000000    0.1050    0.521   80.006  audio_features   \n",
      "...                ...       ...      ...      ...             ...   \n",
      "1468          0.000000    0.0546    0.554   95.060  audio_features   \n",
      "1469          0.000048    0.0617    0.741   94.013  audio_features   \n",
      "1470          0.000083    0.2440    0.872   91.995  audio_features   \n",
      "1471          0.000000    0.0854    0.690   94.959  audio_features   \n",
      "1472          0.000003    0.0845    0.741   96.008  audio_features   \n",
      "\n",
      "                          id                                   uri  \\\n",
      "0     1GEBsLDvJGw7kviySRI6GX  spotify:track:1GEBsLDvJGw7kviySRI6GX   \n",
      "1     3fqwjXwUGN6vbzIwvyFMhx  spotify:track:3fqwjXwUGN6vbzIwvyFMhx   \n",
      "2     1D4PL9B8gOg78jiHg3FvBb  spotify:track:1D4PL9B8gOg78jiHg3FvBb   \n",
      "3     10M2Ex445zw585Ducldzkw  spotify:track:10M2Ex445zw585Ducldzkw   \n",
      "4     1HXy5I3HTWq8OvxCn0z7G7  spotify:track:1HXy5I3HTWq8OvxCn0z7G7   \n",
      "...                      ...                                   ...   \n",
      "1468  5gflgO9EPbIBf16n5TKnQS  spotify:track:5gflgO9EPbIBf16n5TKnQS   \n",
      "1469  72YHgP5Zueyh9ilIjkaEaB  spotify:track:72YHgP5Zueyh9ilIjkaEaB   \n",
      "1470  5YJ4BVvTFmVCxUyhKejHfR  spotify:track:5YJ4BVvTFmVCxUyhKejHfR   \n",
      "1471  5dg7bnBMVAEtXHkF4UZQlu  spotify:track:5dg7bnBMVAEtXHkF4UZQlu   \n",
      "1472  228BxWXUYQPJrJYHDLOHkj  spotify:track:228BxWXUYQPJrJYHDLOHkj   \n",
      "\n",
      "                                             track_href  \\\n",
      "0     https://api.spotify.com/v1/tracks/1GEBsLDvJGw7...   \n",
      "1     https://api.spotify.com/v1/tracks/3fqwjXwUGN6v...   \n",
      "2     https://api.spotify.com/v1/tracks/1D4PL9B8gOg7...   \n",
      "3     https://api.spotify.com/v1/tracks/10M2Ex445zw5...   \n",
      "4     https://api.spotify.com/v1/tracks/1HXy5I3HTWq8...   \n",
      "...                                                 ...   \n",
      "1468  https://api.spotify.com/v1/tracks/5gflgO9EPbIB...   \n",
      "1469  https://api.spotify.com/v1/tracks/72YHgP5Zueyh...   \n",
      "1470  https://api.spotify.com/v1/tracks/5YJ4BVvTFmVC...   \n",
      "1471  https://api.spotify.com/v1/tracks/5dg7bnBMVAEt...   \n",
      "1472  https://api.spotify.com/v1/tracks/228BxWXUYQPJ...   \n",
      "\n",
      "                                           analysis_url  duration_ms  \\\n",
      "0     https://api.spotify.com/v1/audio-analysis/1GEB...       232120   \n",
      "1     https://api.spotify.com/v1/audio-analysis/3fqw...       293293   \n",
      "2     https://api.spotify.com/v1/audio-analysis/1D4P...       236267   \n",
      "3     https://api.spotify.com/v1/audio-analysis/10M2...       224853   \n",
      "4     https://api.spotify.com/v1/audio-analysis/1HXy...       179507   \n",
      "...                                                 ...          ...   \n",
      "1468  https://api.spotify.com/v1/audio-analysis/5gfl...       232020   \n",
      "1469  https://api.spotify.com/v1/audio-analysis/72YH...       205000   \n",
      "1470  https://api.spotify.com/v1/audio-analysis/5YJ4...       151667   \n",
      "1471  https://api.spotify.com/v1/audio-analysis/5dg7...       184467   \n",
      "1472  https://api.spotify.com/v1/audio-analysis/228B...       192600   \n",
      "\n",
      "      time_signature  \n",
      "0                  4  \n",
      "1                  4  \n",
      "2                  4  \n",
      "3                  4  \n",
      "4                  4  \n",
      "...              ...  \n",
      "1468               4  \n",
      "1469               4  \n",
      "1470               4  \n",
      "1471               4  \n",
      "1472               4  \n",
      "\n",
      "[1473 rows x 18 columns]\n"
     ]
    }
   ],
   "source": [
    "print (spotify_df)"
   ]
  },
  {
   "cell_type": "markdown",
   "id": "f99ed30e",
   "metadata": {},
   "source": [
    "# Getting the first few rows"
   ]
  },
  {
   "cell_type": "code",
   "execution_count": 7,
   "id": "c625dc74",
   "metadata": {},
   "outputs": [
    {
     "data": {
      "text/html": [
       "<div>\n",
       "<style scoped>\n",
       "    .dataframe tbody tr th:only-of-type {\n",
       "        vertical-align: middle;\n",
       "    }\n",
       "\n",
       "    .dataframe tbody tr th {\n",
       "        vertical-align: top;\n",
       "    }\n",
       "\n",
       "    .dataframe thead th {\n",
       "        text-align: right;\n",
       "    }\n",
       "</style>\n",
       "<table border=\"1\" class=\"dataframe\">\n",
       "  <thead>\n",
       "    <tr style=\"text-align: right;\">\n",
       "      <th></th>\n",
       "      <th>danceability</th>\n",
       "      <th>energy</th>\n",
       "      <th>key</th>\n",
       "      <th>loudness</th>\n",
       "      <th>mode</th>\n",
       "      <th>speechiness</th>\n",
       "      <th>acousticness</th>\n",
       "      <th>instrumentalness</th>\n",
       "      <th>liveness</th>\n",
       "      <th>valence</th>\n",
       "      <th>tempo</th>\n",
       "      <th>type</th>\n",
       "      <th>id</th>\n",
       "      <th>uri</th>\n",
       "      <th>track_href</th>\n",
       "      <th>analysis_url</th>\n",
       "      <th>duration_ms</th>\n",
       "      <th>time_signature</th>\n",
       "    </tr>\n",
       "  </thead>\n",
       "  <tbody>\n",
       "    <tr>\n",
       "      <th>0</th>\n",
       "      <td>0.687</td>\n",
       "      <td>0.745</td>\n",
       "      <td>6</td>\n",
       "      <td>-4.432</td>\n",
       "      <td>1</td>\n",
       "      <td>0.0379</td>\n",
       "      <td>0.178</td>\n",
       "      <td>0.000016</td>\n",
       "      <td>0.1110</td>\n",
       "      <td>0.435</td>\n",
       "      <td>129.966</td>\n",
       "      <td>audio_features</td>\n",
       "      <td>1GEBsLDvJGw7kviySRI6GX</td>\n",
       "      <td>spotify:track:1GEBsLDvJGw7kviySRI6GX</td>\n",
       "      <td>https://api.spotify.com/v1/tracks/1GEBsLDvJGw7...</td>\n",
       "      <td>https://api.spotify.com/v1/audio-analysis/1GEB...</td>\n",
       "      <td>232120</td>\n",
       "      <td>4</td>\n",
       "    </tr>\n",
       "    <tr>\n",
       "      <th>1</th>\n",
       "      <td>0.392</td>\n",
       "      <td>0.370</td>\n",
       "      <td>9</td>\n",
       "      <td>-10.888</td>\n",
       "      <td>1</td>\n",
       "      <td>0.0298</td>\n",
       "      <td>0.205</td>\n",
       "      <td>0.009600</td>\n",
       "      <td>0.0821</td>\n",
       "      <td>0.512</td>\n",
       "      <td>48.718</td>\n",
       "      <td>audio_features</td>\n",
       "      <td>3fqwjXwUGN6vbzIwvyFMhx</td>\n",
       "      <td>spotify:track:3fqwjXwUGN6vbzIwvyFMhx</td>\n",
       "      <td>https://api.spotify.com/v1/tracks/3fqwjXwUGN6v...</td>\n",
       "      <td>https://api.spotify.com/v1/audio-analysis/3fqw...</td>\n",
       "      <td>293293</td>\n",
       "      <td>4</td>\n",
       "    </tr>\n",
       "    <tr>\n",
       "      <th>2</th>\n",
       "      <td>0.617</td>\n",
       "      <td>0.741</td>\n",
       "      <td>2</td>\n",
       "      <td>-3.970</td>\n",
       "      <td>1</td>\n",
       "      <td>0.0311</td>\n",
       "      <td>0.131</td>\n",
       "      <td>0.000000</td>\n",
       "      <td>0.0772</td>\n",
       "      <td>0.306</td>\n",
       "      <td>118.984</td>\n",
       "      <td>audio_features</td>\n",
       "      <td>1D4PL9B8gOg78jiHg3FvBb</td>\n",
       "      <td>spotify:track:1D4PL9B8gOg78jiHg3FvBb</td>\n",
       "      <td>https://api.spotify.com/v1/tracks/1D4PL9B8gOg7...</td>\n",
       "      <td>https://api.spotify.com/v1/audio-analysis/1D4P...</td>\n",
       "      <td>236267</td>\n",
       "      <td>4</td>\n",
       "    </tr>\n",
       "    <tr>\n",
       "      <th>3</th>\n",
       "      <td>0.607</td>\n",
       "      <td>0.536</td>\n",
       "      <td>10</td>\n",
       "      <td>-7.306</td>\n",
       "      <td>1</td>\n",
       "      <td>0.0305</td>\n",
       "      <td>0.386</td>\n",
       "      <td>0.000000</td>\n",
       "      <td>0.1020</td>\n",
       "      <td>0.434</td>\n",
       "      <td>147.986</td>\n",
       "      <td>audio_features</td>\n",
       "      <td>10M2Ex445zw585Ducldzkw</td>\n",
       "      <td>spotify:track:10M2Ex445zw585Ducldzkw</td>\n",
       "      <td>https://api.spotify.com/v1/tracks/10M2Ex445zw5...</td>\n",
       "      <td>https://api.spotify.com/v1/audio-analysis/10M2...</td>\n",
       "      <td>224853</td>\n",
       "      <td>4</td>\n",
       "    </tr>\n",
       "    <tr>\n",
       "      <th>4</th>\n",
       "      <td>0.677</td>\n",
       "      <td>0.556</td>\n",
       "      <td>9</td>\n",
       "      <td>-6.544</td>\n",
       "      <td>1</td>\n",
       "      <td>0.0306</td>\n",
       "      <td>0.263</td>\n",
       "      <td>0.000000</td>\n",
       "      <td>0.1050</td>\n",
       "      <td>0.521</td>\n",
       "      <td>80.006</td>\n",
       "      <td>audio_features</td>\n",
       "      <td>1HXy5I3HTWq8OvxCn0z7G7</td>\n",
       "      <td>spotify:track:1HXy5I3HTWq8OvxCn0z7G7</td>\n",
       "      <td>https://api.spotify.com/v1/tracks/1HXy5I3HTWq8...</td>\n",
       "      <td>https://api.spotify.com/v1/audio-analysis/1HXy...</td>\n",
       "      <td>179507</td>\n",
       "      <td>4</td>\n",
       "    </tr>\n",
       "  </tbody>\n",
       "</table>\n",
       "</div>"
      ],
      "text/plain": [
       "   danceability  energy  key  loudness  mode  speechiness  acousticness  \\\n",
       "0         0.687   0.745    6    -4.432     1       0.0379         0.178   \n",
       "1         0.392   0.370    9   -10.888     1       0.0298         0.205   \n",
       "2         0.617   0.741    2    -3.970     1       0.0311         0.131   \n",
       "3         0.607   0.536   10    -7.306     1       0.0305         0.386   \n",
       "4         0.677   0.556    9    -6.544     1       0.0306         0.263   \n",
       "\n",
       "   instrumentalness  liveness  valence    tempo            type  \\\n",
       "0          0.000016    0.1110    0.435  129.966  audio_features   \n",
       "1          0.009600    0.0821    0.512   48.718  audio_features   \n",
       "2          0.000000    0.0772    0.306  118.984  audio_features   \n",
       "3          0.000000    0.1020    0.434  147.986  audio_features   \n",
       "4          0.000000    0.1050    0.521   80.006  audio_features   \n",
       "\n",
       "                       id                                   uri  \\\n",
       "0  1GEBsLDvJGw7kviySRI6GX  spotify:track:1GEBsLDvJGw7kviySRI6GX   \n",
       "1  3fqwjXwUGN6vbzIwvyFMhx  spotify:track:3fqwjXwUGN6vbzIwvyFMhx   \n",
       "2  1D4PL9B8gOg78jiHg3FvBb  spotify:track:1D4PL9B8gOg78jiHg3FvBb   \n",
       "3  10M2Ex445zw585Ducldzkw  spotify:track:10M2Ex445zw585Ducldzkw   \n",
       "4  1HXy5I3HTWq8OvxCn0z7G7  spotify:track:1HXy5I3HTWq8OvxCn0z7G7   \n",
       "\n",
       "                                          track_href  \\\n",
       "0  https://api.spotify.com/v1/tracks/1GEBsLDvJGw7...   \n",
       "1  https://api.spotify.com/v1/tracks/3fqwjXwUGN6v...   \n",
       "2  https://api.spotify.com/v1/tracks/1D4PL9B8gOg7...   \n",
       "3  https://api.spotify.com/v1/tracks/10M2Ex445zw5...   \n",
       "4  https://api.spotify.com/v1/tracks/1HXy5I3HTWq8...   \n",
       "\n",
       "                                        analysis_url  duration_ms  \\\n",
       "0  https://api.spotify.com/v1/audio-analysis/1GEB...       232120   \n",
       "1  https://api.spotify.com/v1/audio-analysis/3fqw...       293293   \n",
       "2  https://api.spotify.com/v1/audio-analysis/1D4P...       236267   \n",
       "3  https://api.spotify.com/v1/audio-analysis/10M2...       224853   \n",
       "4  https://api.spotify.com/v1/audio-analysis/1HXy...       179507   \n",
       "\n",
       "   time_signature  \n",
       "0               4  \n",
       "1               4  \n",
       "2               4  \n",
       "3               4  \n",
       "4               4  "
      ]
     },
     "execution_count": 7,
     "metadata": {},
     "output_type": "execute_result"
    }
   ],
   "source": [
    "spotify_df.head()"
   ]
  },
  {
   "cell_type": "markdown",
   "id": "3428b0cc",
   "metadata": {},
   "source": [
    "# APPLYING FEATURE SCALING "
   ]
  },
  {
   "cell_type": "code",
   "execution_count": 8,
   "id": "19cc4afc",
   "metadata": {},
   "outputs": [],
   "source": [
    "features = spotify_df.select_dtypes(include='number')"
   ]
  },
  {
   "cell_type": "code",
   "execution_count": 9,
   "id": "4fee5bdc",
   "metadata": {},
   "outputs": [],
   "source": [
    "scaler = StandardScaler()"
   ]
  },
  {
   "cell_type": "code",
   "execution_count": 10,
   "id": "ba92994a",
   "metadata": {},
   "outputs": [],
   "source": [
    "scaled_features = scaler.fit_transform(features)"
   ]
  },
  {
   "cell_type": "code",
   "execution_count": 11,
   "id": "d88827b3",
   "metadata": {},
   "outputs": [],
   "source": [
    "scaled_df = pd.DataFrame(scaled_features, columns=features.columns)"
   ]
  },
  {
   "cell_type": "code",
   "execution_count": 12,
   "id": "57359721",
   "metadata": {},
   "outputs": [
    {
     "data": {
      "text/html": [
       "<div>\n",
       "<style scoped>\n",
       "    .dataframe tbody tr th:only-of-type {\n",
       "        vertical-align: middle;\n",
       "    }\n",
       "\n",
       "    .dataframe tbody tr th {\n",
       "        vertical-align: top;\n",
       "    }\n",
       "\n",
       "    .dataframe thead th {\n",
       "        text-align: right;\n",
       "    }\n",
       "</style>\n",
       "<table border=\"1\" class=\"dataframe\">\n",
       "  <thead>\n",
       "    <tr style=\"text-align: right;\">\n",
       "      <th></th>\n",
       "      <th>danceability</th>\n",
       "      <th>energy</th>\n",
       "      <th>key</th>\n",
       "      <th>loudness</th>\n",
       "      <th>mode</th>\n",
       "      <th>speechiness</th>\n",
       "      <th>acousticness</th>\n",
       "      <th>instrumentalness</th>\n",
       "      <th>liveness</th>\n",
       "      <th>valence</th>\n",
       "      <th>tempo</th>\n",
       "      <th>duration_ms</th>\n",
       "      <th>time_signature</th>\n",
       "    </tr>\n",
       "  </thead>\n",
       "  <tbody>\n",
       "    <tr>\n",
       "      <th>0</th>\n",
       "      <td>0.520319</td>\n",
       "      <td>0.403121</td>\n",
       "      <td>0.155294</td>\n",
       "      <td>0.816787</td>\n",
       "      <td>0.694184</td>\n",
       "      <td>-0.506695</td>\n",
       "      <td>-0.290501</td>\n",
       "      <td>-0.349655</td>\n",
       "      <td>-0.502811</td>\n",
       "      <td>-0.387373</td>\n",
       "      <td>0.276160</td>\n",
       "      <td>-0.128405</td>\n",
       "      <td>0.163282</td>\n",
       "    </tr>\n",
       "    <tr>\n",
       "      <th>1</th>\n",
       "      <td>-1.201826</td>\n",
       "      <td>-1.294036</td>\n",
       "      <td>0.975181</td>\n",
       "      <td>-0.767962</td>\n",
       "      <td>0.694184</td>\n",
       "      <td>-0.592775</td>\n",
       "      <td>-0.197642</td>\n",
       "      <td>-0.299393</td>\n",
       "      <td>-0.678863</td>\n",
       "      <td>-0.072418</td>\n",
       "      <td>-2.526637</td>\n",
       "      <td>0.528527</td>\n",
       "      <td>0.163282</td>\n",
       "    </tr>\n",
       "    <tr>\n",
       "      <th>2</th>\n",
       "      <td>0.111675</td>\n",
       "      <td>0.385018</td>\n",
       "      <td>-0.937888</td>\n",
       "      <td>0.930194</td>\n",
       "      <td>0.694184</td>\n",
       "      <td>-0.578960</td>\n",
       "      <td>-0.452145</td>\n",
       "      <td>-0.349738</td>\n",
       "      <td>-0.708713</td>\n",
       "      <td>-0.915024</td>\n",
       "      <td>-0.102684</td>\n",
       "      <td>-0.083871</td>\n",
       "      <td>0.163282</td>\n",
       "    </tr>\n",
       "    <tr>\n",
       "      <th>3</th>\n",
       "      <td>0.053297</td>\n",
       "      <td>-0.542761</td>\n",
       "      <td>1.248476</td>\n",
       "      <td>0.111309</td>\n",
       "      <td>0.694184</td>\n",
       "      <td>-0.585336</td>\n",
       "      <td>0.424860</td>\n",
       "      <td>-0.349738</td>\n",
       "      <td>-0.557637</td>\n",
       "      <td>-0.391463</td>\n",
       "      <td>0.897792</td>\n",
       "      <td>-0.206445</td>\n",
       "      <td>0.163282</td>\n",
       "    </tr>\n",
       "    <tr>\n",
       "      <th>4</th>\n",
       "      <td>0.461942</td>\n",
       "      <td>-0.452246</td>\n",
       "      <td>0.975181</td>\n",
       "      <td>0.298356</td>\n",
       "      <td>0.694184</td>\n",
       "      <td>-0.584274</td>\n",
       "      <td>0.001834</td>\n",
       "      <td>-0.349738</td>\n",
       "      <td>-0.539361</td>\n",
       "      <td>-0.035605</td>\n",
       "      <td>-1.447301</td>\n",
       "      <td>-0.693411</td>\n",
       "      <td>0.163282</td>\n",
       "    </tr>\n",
       "  </tbody>\n",
       "</table>\n",
       "</div>"
      ],
      "text/plain": [
       "   danceability    energy       key  loudness      mode  speechiness  \\\n",
       "0      0.520319  0.403121  0.155294  0.816787  0.694184    -0.506695   \n",
       "1     -1.201826 -1.294036  0.975181 -0.767962  0.694184    -0.592775   \n",
       "2      0.111675  0.385018 -0.937888  0.930194  0.694184    -0.578960   \n",
       "3      0.053297 -0.542761  1.248476  0.111309  0.694184    -0.585336   \n",
       "4      0.461942 -0.452246  0.975181  0.298356  0.694184    -0.584274   \n",
       "\n",
       "   acousticness  instrumentalness  liveness   valence     tempo  duration_ms  \\\n",
       "0     -0.290501         -0.349655 -0.502811 -0.387373  0.276160    -0.128405   \n",
       "1     -0.197642         -0.299393 -0.678863 -0.072418 -2.526637     0.528527   \n",
       "2     -0.452145         -0.349738 -0.708713 -0.915024 -0.102684    -0.083871   \n",
       "3      0.424860         -0.349738 -0.557637 -0.391463  0.897792    -0.206445   \n",
       "4      0.001834         -0.349738 -0.539361 -0.035605 -1.447301    -0.693411   \n",
       "\n",
       "   time_signature  \n",
       "0        0.163282  \n",
       "1        0.163282  \n",
       "2        0.163282  \n",
       "3        0.163282  \n",
       "4        0.163282  "
      ]
     },
     "execution_count": 12,
     "metadata": {},
     "output_type": "execute_result"
    }
   ],
   "source": [
    "scaled_df.head()"
   ]
  },
  {
   "cell_type": "code",
   "execution_count": 13,
   "id": "9fa68546",
   "metadata": {},
   "outputs": [
    {
     "data": {
      "text/html": [
       "<div>\n",
       "<style scoped>\n",
       "    .dataframe tbody tr th:only-of-type {\n",
       "        vertical-align: middle;\n",
       "    }\n",
       "\n",
       "    .dataframe tbody tr th {\n",
       "        vertical-align: top;\n",
       "    }\n",
       "\n",
       "    .dataframe thead th {\n",
       "        text-align: right;\n",
       "    }\n",
       "</style>\n",
       "<table border=\"1\" class=\"dataframe\">\n",
       "  <thead>\n",
       "    <tr style=\"text-align: right;\">\n",
       "      <th></th>\n",
       "      <th>danceability</th>\n",
       "      <th>energy</th>\n",
       "      <th>key</th>\n",
       "      <th>loudness</th>\n",
       "      <th>mode</th>\n",
       "      <th>speechiness</th>\n",
       "      <th>acousticness</th>\n",
       "      <th>instrumentalness</th>\n",
       "      <th>liveness</th>\n",
       "      <th>valence</th>\n",
       "      <th>tempo</th>\n",
       "      <th>duration_ms</th>\n",
       "      <th>time_signature</th>\n",
       "    </tr>\n",
       "  </thead>\n",
       "  <tbody>\n",
       "    <tr>\n",
       "      <th>count</th>\n",
       "      <td>1473.000000</td>\n",
       "      <td>1473.000000</td>\n",
       "      <td>1473.000000</td>\n",
       "      <td>1473.000000</td>\n",
       "      <td>1473.000000</td>\n",
       "      <td>1473.000000</td>\n",
       "      <td>1473.000000</td>\n",
       "      <td>1473.000000</td>\n",
       "      <td>1473.000000</td>\n",
       "      <td>1473.000000</td>\n",
       "      <td>1473.000000</td>\n",
       "      <td>1.473000e+03</td>\n",
       "      <td>1473.000000</td>\n",
       "    </tr>\n",
       "    <tr>\n",
       "      <th>mean</th>\n",
       "      <td>0.597870</td>\n",
       "      <td>0.655927</td>\n",
       "      <td>5.431772</td>\n",
       "      <td>-7.759452</td>\n",
       "      <td>0.674813</td>\n",
       "      <td>0.085579</td>\n",
       "      <td>0.262467</td>\n",
       "      <td>0.066690</td>\n",
       "      <td>0.193539</td>\n",
       "      <td>0.529705</td>\n",
       "      <td>121.960631</td>\n",
       "      <td>2.440770e+05</td>\n",
       "      <td>3.947726</td>\n",
       "    </tr>\n",
       "    <tr>\n",
       "      <th>std</th>\n",
       "      <td>0.171356</td>\n",
       "      <td>0.221033</td>\n",
       "      <td>3.660285</td>\n",
       "      <td>4.075215</td>\n",
       "      <td>0.468604</td>\n",
       "      <td>0.094130</td>\n",
       "      <td>0.290861</td>\n",
       "      <td>0.190749</td>\n",
       "      <td>0.164212</td>\n",
       "      <td>0.244563</td>\n",
       "      <td>28.998030</td>\n",
       "      <td>9.315092e+04</td>\n",
       "      <td>0.320257</td>\n",
       "    </tr>\n",
       "    <tr>\n",
       "      <th>min</th>\n",
       "      <td>0.122000</td>\n",
       "      <td>0.007560</td>\n",
       "      <td>0.000000</td>\n",
       "      <td>-26.440000</td>\n",
       "      <td>0.000000</td>\n",
       "      <td>0.022700</td>\n",
       "      <td>0.000002</td>\n",
       "      <td>0.000000</td>\n",
       "      <td>0.019900</td>\n",
       "      <td>0.033400</td>\n",
       "      <td>48.718000</td>\n",
       "      <td>4.022700e+04</td>\n",
       "      <td>1.000000</td>\n",
       "    </tr>\n",
       "    <tr>\n",
       "      <th>25%</th>\n",
       "      <td>0.475000</td>\n",
       "      <td>0.512000</td>\n",
       "      <td>2.000000</td>\n",
       "      <td>-9.838000</td>\n",
       "      <td>0.000000</td>\n",
       "      <td>0.033700</td>\n",
       "      <td>0.029200</td>\n",
       "      <td>0.000000</td>\n",
       "      <td>0.094100</td>\n",
       "      <td>0.329000</td>\n",
       "      <td>97.911000</td>\n",
       "      <td>1.936270e+05</td>\n",
       "      <td>4.000000</td>\n",
       "    </tr>\n",
       "    <tr>\n",
       "      <th>50%</th>\n",
       "      <td>0.599000</td>\n",
       "      <td>0.696000</td>\n",
       "      <td>6.000000</td>\n",
       "      <td>-6.652000</td>\n",
       "      <td>1.000000</td>\n",
       "      <td>0.046400</td>\n",
       "      <td>0.140000</td>\n",
       "      <td>0.000018</td>\n",
       "      <td>0.123000</td>\n",
       "      <td>0.533000</td>\n",
       "      <td>121.573000</td>\n",
       "      <td>2.277630e+05</td>\n",
       "      <td>4.000000</td>\n",
       "    </tr>\n",
       "    <tr>\n",
       "      <th>75%</th>\n",
       "      <td>0.730000</td>\n",
       "      <td>0.836000</td>\n",
       "      <td>9.000000</td>\n",
       "      <td>-4.953000</td>\n",
       "      <td>1.000000</td>\n",
       "      <td>0.085800</td>\n",
       "      <td>0.415000</td>\n",
       "      <td>0.003550</td>\n",
       "      <td>0.248000</td>\n",
       "      <td>0.733000</td>\n",
       "      <td>140.791000</td>\n",
       "      <td>2.711070e+05</td>\n",
       "      <td>4.000000</td>\n",
       "    </tr>\n",
       "    <tr>\n",
       "      <th>max</th>\n",
       "      <td>0.979000</td>\n",
       "      <td>0.998000</td>\n",
       "      <td>11.000000</td>\n",
       "      <td>0.691000</td>\n",
       "      <td>1.000000</td>\n",
       "      <td>0.922000</td>\n",
       "      <td>0.995000</td>\n",
       "      <td>0.985000</td>\n",
       "      <td>1.000000</td>\n",
       "      <td>0.981000</td>\n",
       "      <td>214.025000</td>\n",
       "      <td>1.618693e+06</td>\n",
       "      <td>5.000000</td>\n",
       "    </tr>\n",
       "  </tbody>\n",
       "</table>\n",
       "</div>"
      ],
      "text/plain": [
       "       danceability       energy          key     loudness         mode  \\\n",
       "count   1473.000000  1473.000000  1473.000000  1473.000000  1473.000000   \n",
       "mean       0.597870     0.655927     5.431772    -7.759452     0.674813   \n",
       "std        0.171356     0.221033     3.660285     4.075215     0.468604   \n",
       "min        0.122000     0.007560     0.000000   -26.440000     0.000000   \n",
       "25%        0.475000     0.512000     2.000000    -9.838000     0.000000   \n",
       "50%        0.599000     0.696000     6.000000    -6.652000     1.000000   \n",
       "75%        0.730000     0.836000     9.000000    -4.953000     1.000000   \n",
       "max        0.979000     0.998000    11.000000     0.691000     1.000000   \n",
       "\n",
       "       speechiness  acousticness  instrumentalness     liveness      valence  \\\n",
       "count  1473.000000   1473.000000       1473.000000  1473.000000  1473.000000   \n",
       "mean      0.085579      0.262467          0.066690     0.193539     0.529705   \n",
       "std       0.094130      0.290861          0.190749     0.164212     0.244563   \n",
       "min       0.022700      0.000002          0.000000     0.019900     0.033400   \n",
       "25%       0.033700      0.029200          0.000000     0.094100     0.329000   \n",
       "50%       0.046400      0.140000          0.000018     0.123000     0.533000   \n",
       "75%       0.085800      0.415000          0.003550     0.248000     0.733000   \n",
       "max       0.922000      0.995000          0.985000     1.000000     0.981000   \n",
       "\n",
       "             tempo   duration_ms  time_signature  \n",
       "count  1473.000000  1.473000e+03     1473.000000  \n",
       "mean    121.960631  2.440770e+05        3.947726  \n",
       "std      28.998030  9.315092e+04        0.320257  \n",
       "min      48.718000  4.022700e+04        1.000000  \n",
       "25%      97.911000  1.936270e+05        4.000000  \n",
       "50%     121.573000  2.277630e+05        4.000000  \n",
       "75%     140.791000  2.711070e+05        4.000000  \n",
       "max     214.025000  1.618693e+06        5.000000  "
      ]
     },
     "execution_count": 13,
     "metadata": {},
     "output_type": "execute_result"
    }
   ],
   "source": [
    "spotify_df.describe()"
   ]
  },
  {
   "cell_type": "code",
   "execution_count": 14,
   "id": "93fddd75",
   "metadata": {},
   "outputs": [
    {
     "data": {
      "text/html": [
       "<div>\n",
       "<style scoped>\n",
       "    .dataframe tbody tr th:only-of-type {\n",
       "        vertical-align: middle;\n",
       "    }\n",
       "\n",
       "    .dataframe tbody tr th {\n",
       "        vertical-align: top;\n",
       "    }\n",
       "\n",
       "    .dataframe thead th {\n",
       "        text-align: right;\n",
       "    }\n",
       "</style>\n",
       "<table border=\"1\" class=\"dataframe\">\n",
       "  <thead>\n",
       "    <tr style=\"text-align: right;\">\n",
       "      <th></th>\n",
       "      <th>danceability</th>\n",
       "      <th>energy</th>\n",
       "      <th>key</th>\n",
       "      <th>loudness</th>\n",
       "      <th>mode</th>\n",
       "      <th>speechiness</th>\n",
       "      <th>acousticness</th>\n",
       "      <th>instrumentalness</th>\n",
       "      <th>liveness</th>\n",
       "      <th>valence</th>\n",
       "      <th>tempo</th>\n",
       "      <th>duration_ms</th>\n",
       "      <th>time_signature</th>\n",
       "    </tr>\n",
       "  </thead>\n",
       "  <tbody>\n",
       "    <tr>\n",
       "      <th>count</th>\n",
       "      <td>1.473000e+03</td>\n",
       "      <td>1.473000e+03</td>\n",
       "      <td>1.473000e+03</td>\n",
       "      <td>1.473000e+03</td>\n",
       "      <td>1.473000e+03</td>\n",
       "      <td>1.473000e+03</td>\n",
       "      <td>1.473000e+03</td>\n",
       "      <td>1.473000e+03</td>\n",
       "      <td>1.473000e+03</td>\n",
       "      <td>1.473000e+03</td>\n",
       "      <td>1.473000e+03</td>\n",
       "      <td>1.473000e+03</td>\n",
       "      <td>1.473000e+03</td>\n",
       "    </tr>\n",
       "    <tr>\n",
       "      <th>mean</th>\n",
       "      <td>2.508365e-16</td>\n",
       "      <td>-9.647559e-18</td>\n",
       "      <td>-3.135457e-17</td>\n",
       "      <td>2.894268e-17</td>\n",
       "      <td>9.768154e-17</td>\n",
       "      <td>2.894268e-17</td>\n",
       "      <td>-3.859024e-17</td>\n",
       "      <td>1.929512e-17</td>\n",
       "      <td>-2.218939e-16</td>\n",
       "      <td>2.363652e-16</td>\n",
       "      <td>-6.557325e-16</td>\n",
       "      <td>-4.823780e-17</td>\n",
       "      <td>-2.966624e-16</td>\n",
       "    </tr>\n",
       "    <tr>\n",
       "      <th>std</th>\n",
       "      <td>1.000340e+00</td>\n",
       "      <td>1.000340e+00</td>\n",
       "      <td>1.000340e+00</td>\n",
       "      <td>1.000340e+00</td>\n",
       "      <td>1.000340e+00</td>\n",
       "      <td>1.000340e+00</td>\n",
       "      <td>1.000340e+00</td>\n",
       "      <td>1.000340e+00</td>\n",
       "      <td>1.000340e+00</td>\n",
       "      <td>1.000340e+00</td>\n",
       "      <td>1.000340e+00</td>\n",
       "      <td>1.000340e+00</td>\n",
       "      <td>1.000340e+00</td>\n",
       "    </tr>\n",
       "    <tr>\n",
       "      <th>min</th>\n",
       "      <td>-2.778026e+00</td>\n",
       "      <td>-2.934349e+00</td>\n",
       "      <td>-1.484479e+00</td>\n",
       "      <td>-4.585499e+00</td>\n",
       "      <td>-1.440540e+00</td>\n",
       "      <td>-6.682286e-01</td>\n",
       "      <td>-9.026764e-01</td>\n",
       "      <td>-3.497382e-01</td>\n",
       "      <td>-1.057771e+00</td>\n",
       "      <td>-2.030046e+00</td>\n",
       "      <td>-2.526637e+00</td>\n",
       "      <td>-2.189127e+00</td>\n",
       "      <td>-9.207381e+00</td>\n",
       "    </tr>\n",
       "    <tr>\n",
       "      <th>25%</th>\n",
       "      <td>-7.172899e-01</td>\n",
       "      <td>-6.513790e-01</td>\n",
       "      <td>-9.378880e-01</td>\n",
       "      <td>-5.102195e-01</td>\n",
       "      <td>-1.440540e+00</td>\n",
       "      <td>-5.513293e-01</td>\n",
       "      <td>-8.022589e-01</td>\n",
       "      <td>-3.497382e-01</td>\n",
       "      <td>-6.057617e-01</td>\n",
       "      <td>-8.209468e-01</td>\n",
       "      <td>-8.296356e-01</td>\n",
       "      <td>-5.417778e-01</td>\n",
       "      <td>1.632815e-01</td>\n",
       "    </tr>\n",
       "    <tr>\n",
       "      <th>50%</th>\n",
       "      <td>6.594749e-03</td>\n",
       "      <td>1.813592e-01</td>\n",
       "      <td>1.552942e-01</td>\n",
       "      <td>2.718454e-01</td>\n",
       "      <td>6.941839e-01</td>\n",
       "      <td>-4.163637e-01</td>\n",
       "      <td>-4.211918e-01</td>\n",
       "      <td>-3.496438e-01</td>\n",
       "      <td>-4.297097e-01</td>\n",
       "      <td>1.347890e-02</td>\n",
       "      <td>-1.337202e-02</td>\n",
       "      <td>-1.751943e-01</td>\n",
       "      <td>1.632815e-01</td>\n",
       "    </tr>\n",
       "    <tr>\n",
       "      <th>75%</th>\n",
       "      <td>7.713439e-01</td>\n",
       "      <td>8.149645e-01</td>\n",
       "      <td>9.751809e-01</td>\n",
       "      <td>6.888975e-01</td>\n",
       "      <td>6.941839e-01</td>\n",
       "      <td>2.348375e-03</td>\n",
       "      <td>5.245975e-01</td>\n",
       "      <td>-3.311210e-01</td>\n",
       "      <td>3.317609e-01</td>\n",
       "      <td>8.315433e-01</td>\n",
       "      <td>6.495877e-01</td>\n",
       "      <td>2.902731e-01</td>\n",
       "      <td>1.632815e-01</td>\n",
       "    </tr>\n",
       "    <tr>\n",
       "      <th>max</th>\n",
       "      <td>2.224951e+00</td>\n",
       "      <td>1.548136e+00</td>\n",
       "      <td>1.521772e+00</td>\n",
       "      <td>2.074326e+00</td>\n",
       "      <td>6.941839e-01</td>\n",
       "      <td>8.888822e+00</td>\n",
       "      <td>2.519353e+00</td>\n",
       "      <td>4.815867e+00</td>\n",
       "      <td>4.912768e+00</td>\n",
       "      <td>1.845943e+00</td>\n",
       "      <td>3.175927e+00</td>\n",
       "      <td>1.476188e+01</td>\n",
       "      <td>3.286836e+00</td>\n",
       "    </tr>\n",
       "  </tbody>\n",
       "</table>\n",
       "</div>"
      ],
      "text/plain": [
       "       danceability        energy           key      loudness          mode  \\\n",
       "count  1.473000e+03  1.473000e+03  1.473000e+03  1.473000e+03  1.473000e+03   \n",
       "mean   2.508365e-16 -9.647559e-18 -3.135457e-17  2.894268e-17  9.768154e-17   \n",
       "std    1.000340e+00  1.000340e+00  1.000340e+00  1.000340e+00  1.000340e+00   \n",
       "min   -2.778026e+00 -2.934349e+00 -1.484479e+00 -4.585499e+00 -1.440540e+00   \n",
       "25%   -7.172899e-01 -6.513790e-01 -9.378880e-01 -5.102195e-01 -1.440540e+00   \n",
       "50%    6.594749e-03  1.813592e-01  1.552942e-01  2.718454e-01  6.941839e-01   \n",
       "75%    7.713439e-01  8.149645e-01  9.751809e-01  6.888975e-01  6.941839e-01   \n",
       "max    2.224951e+00  1.548136e+00  1.521772e+00  2.074326e+00  6.941839e-01   \n",
       "\n",
       "        speechiness  acousticness  instrumentalness      liveness  \\\n",
       "count  1.473000e+03  1.473000e+03      1.473000e+03  1.473000e+03   \n",
       "mean   2.894268e-17 -3.859024e-17      1.929512e-17 -2.218939e-16   \n",
       "std    1.000340e+00  1.000340e+00      1.000340e+00  1.000340e+00   \n",
       "min   -6.682286e-01 -9.026764e-01     -3.497382e-01 -1.057771e+00   \n",
       "25%   -5.513293e-01 -8.022589e-01     -3.497382e-01 -6.057617e-01   \n",
       "50%   -4.163637e-01 -4.211918e-01     -3.496438e-01 -4.297097e-01   \n",
       "75%    2.348375e-03  5.245975e-01     -3.311210e-01  3.317609e-01   \n",
       "max    8.888822e+00  2.519353e+00      4.815867e+00  4.912768e+00   \n",
       "\n",
       "            valence         tempo   duration_ms  time_signature  \n",
       "count  1.473000e+03  1.473000e+03  1.473000e+03    1.473000e+03  \n",
       "mean   2.363652e-16 -6.557325e-16 -4.823780e-17   -2.966624e-16  \n",
       "std    1.000340e+00  1.000340e+00  1.000340e+00    1.000340e+00  \n",
       "min   -2.030046e+00 -2.526637e+00 -2.189127e+00   -9.207381e+00  \n",
       "25%   -8.209468e-01 -8.296356e-01 -5.417778e-01    1.632815e-01  \n",
       "50%    1.347890e-02 -1.337202e-02 -1.751943e-01    1.632815e-01  \n",
       "75%    8.315433e-01  6.495877e-01  2.902731e-01    1.632815e-01  \n",
       "max    1.845943e+00  3.175927e+00  1.476188e+01    3.286836e+00  "
      ]
     },
     "execution_count": 14,
     "metadata": {},
     "output_type": "execute_result"
    }
   ],
   "source": [
    "scaled_df.describe()"
   ]
  },
  {
   "cell_type": "markdown",
   "id": "c7f35dfe",
   "metadata": {},
   "source": [
    "# Clustering the SPOTIFY_DFs with K-Means¶"
   ]
  },
  {
   "cell_type": "code",
   "execution_count": 15,
   "id": "616def93",
   "metadata": {},
   "outputs": [
    {
     "name": "stderr",
     "output_type": "stream",
     "text": [
      "C:\\Users\\User\\anaconda3\\Lib\\site-packages\\sklearn\\cluster\\_kmeans.py:1412: FutureWarning: The default value of `n_init` will change from 10 to 'auto' in 1.4. Set the value of `n_init` explicitly to suppress the warning\n",
      "  super()._check_params_vs_input(X, default_n_init=10)\n"
     ]
    },
    {
     "data": {
      "text/html": [
       "<style>#sk-container-id-1 {color: black;}#sk-container-id-1 pre{padding: 0;}#sk-container-id-1 div.sk-toggleable {background-color: white;}#sk-container-id-1 label.sk-toggleable__label {cursor: pointer;display: block;width: 100%;margin-bottom: 0;padding: 0.3em;box-sizing: border-box;text-align: center;}#sk-container-id-1 label.sk-toggleable__label-arrow:before {content: \"▸\";float: left;margin-right: 0.25em;color: #696969;}#sk-container-id-1 label.sk-toggleable__label-arrow:hover:before {color: black;}#sk-container-id-1 div.sk-estimator:hover label.sk-toggleable__label-arrow:before {color: black;}#sk-container-id-1 div.sk-toggleable__content {max-height: 0;max-width: 0;overflow: hidden;text-align: left;background-color: #f0f8ff;}#sk-container-id-1 div.sk-toggleable__content pre {margin: 0.2em;color: black;border-radius: 0.25em;background-color: #f0f8ff;}#sk-container-id-1 input.sk-toggleable__control:checked~div.sk-toggleable__content {max-height: 200px;max-width: 100%;overflow: auto;}#sk-container-id-1 input.sk-toggleable__control:checked~label.sk-toggleable__label-arrow:before {content: \"▾\";}#sk-container-id-1 div.sk-estimator input.sk-toggleable__control:checked~label.sk-toggleable__label {background-color: #d4ebff;}#sk-container-id-1 div.sk-label input.sk-toggleable__control:checked~label.sk-toggleable__label {background-color: #d4ebff;}#sk-container-id-1 input.sk-hidden--visually {border: 0;clip: rect(1px 1px 1px 1px);clip: rect(1px, 1px, 1px, 1px);height: 1px;margin: -1px;overflow: hidden;padding: 0;position: absolute;width: 1px;}#sk-container-id-1 div.sk-estimator {font-family: monospace;background-color: #f0f8ff;border: 1px dotted black;border-radius: 0.25em;box-sizing: border-box;margin-bottom: 0.5em;}#sk-container-id-1 div.sk-estimator:hover {background-color: #d4ebff;}#sk-container-id-1 div.sk-parallel-item::after {content: \"\";width: 100%;border-bottom: 1px solid gray;flex-grow: 1;}#sk-container-id-1 div.sk-label:hover label.sk-toggleable__label {background-color: #d4ebff;}#sk-container-id-1 div.sk-serial::before {content: \"\";position: absolute;border-left: 1px solid gray;box-sizing: border-box;top: 0;bottom: 0;left: 50%;z-index: 0;}#sk-container-id-1 div.sk-serial {display: flex;flex-direction: column;align-items: center;background-color: white;padding-right: 0.2em;padding-left: 0.2em;position: relative;}#sk-container-id-1 div.sk-item {position: relative;z-index: 1;}#sk-container-id-1 div.sk-parallel {display: flex;align-items: stretch;justify-content: center;background-color: white;position: relative;}#sk-container-id-1 div.sk-item::before, #sk-container-id-1 div.sk-parallel-item::before {content: \"\";position: absolute;border-left: 1px solid gray;box-sizing: border-box;top: 0;bottom: 0;left: 50%;z-index: -1;}#sk-container-id-1 div.sk-parallel-item {display: flex;flex-direction: column;z-index: 1;position: relative;background-color: white;}#sk-container-id-1 div.sk-parallel-item:first-child::after {align-self: flex-end;width: 50%;}#sk-container-id-1 div.sk-parallel-item:last-child::after {align-self: flex-start;width: 50%;}#sk-container-id-1 div.sk-parallel-item:only-child::after {width: 0;}#sk-container-id-1 div.sk-dashed-wrapped {border: 1px dashed gray;margin: 0 0.4em 0.5em 0.4em;box-sizing: border-box;padding-bottom: 0.4em;background-color: white;}#sk-container-id-1 div.sk-label label {font-family: monospace;font-weight: bold;display: inline-block;line-height: 1.2em;}#sk-container-id-1 div.sk-label-container {text-align: center;}#sk-container-id-1 div.sk-container {/* jupyter's `normalize.less` sets `[hidden] { display: none; }` but bootstrap.min.css set `[hidden] { display: none !important; }` so we also need the `!important` here to be able to override the default hidden behavior on the sphinx rendered scikit-learn.org. See: https://github.com/scikit-learn/scikit-learn/issues/21755 */display: inline-block !important;position: relative;}#sk-container-id-1 div.sk-text-repr-fallback {display: none;}</style><div id=\"sk-container-id-1\" class=\"sk-top-container\"><div class=\"sk-text-repr-fallback\"><pre>KMeans(n_clusters=6, random_state=1234)</pre><b>In a Jupyter environment, please rerun this cell to show the HTML representation or trust the notebook. <br />On GitHub, the HTML representation is unable to render, please try loading this page with nbviewer.org.</b></div><div class=\"sk-container\" hidden><div class=\"sk-item\"><div class=\"sk-estimator sk-toggleable\"><input class=\"sk-toggleable__control sk-hidden--visually\" id=\"sk-estimator-id-1\" type=\"checkbox\" checked><label for=\"sk-estimator-id-1\" class=\"sk-toggleable__label sk-toggleable__label-arrow\">KMeans</label><div class=\"sk-toggleable__content\"><pre>KMeans(n_clusters=6, random_state=1234)</pre></div></div></div></div></div>"
      ],
      "text/plain": [
       "KMeans(n_clusters=6, random_state=1234)"
      ]
     },
     "execution_count": 15,
     "metadata": {},
     "output_type": "execute_result"
    }
   ],
   "source": [
    "kmeans = KMeans(n_clusters=6, random_state=1234)\n",
    "kmeans.fit(scaled_df)"
   ]
  },
  {
   "cell_type": "code",
   "execution_count": 16,
   "id": "d0825ea4",
   "metadata": {},
   "outputs": [
    {
     "data": {
      "text/plain": [
       "array([1, 3, 5, ..., 2, 1, 1])"
      ]
     },
     "execution_count": 16,
     "metadata": {},
     "output_type": "execute_result"
    }
   ],
   "source": [
    "labels = kmeans.labels_\n",
    "labels"
   ]
  },
  {
   "cell_type": "code",
   "execution_count": 17,
   "id": "aa878b08",
   "metadata": {},
   "outputs": [
    {
     "data": {
      "text/plain": [
       "array([0, 1, 2, 3, 4, 5])"
      ]
     },
     "execution_count": 17,
     "metadata": {},
     "output_type": "execute_result"
    }
   ],
   "source": [
    "np.unique(labels)"
   ]
  },
  {
   "cell_type": "code",
   "execution_count": 22,
   "id": "f0250cc0",
   "metadata": {},
   "outputs": [],
   "source": [
    "# # assign a cluster to each example\n",
    "# labels = kmeans.predict(scaled_df)\n",
    "# # retrieve unique clusters\n",
    "# clusters = np.unique(labels)\n",
    "# # create scatter plot for samples from each cluster\n",
    "# for cluster in clusters:\n",
    "#     # get row indexes for samples with this cluster\n",
    "#     row_ix = np.where(labels == cluster)\n",
    "#     # create scatter of these samples\n",
    "#     pltplot.scatter(X.to_numpy()[row_ix, 1], X.to_numpy()[row_ix, 3])\n",
    "#     plt.plot(scaled_df.iloc[:, 0])\n",
    "    \n",
    "# plt.show()"
   ]
  },
  {
   "cell_type": "markdown",
   "id": "3cfec369",
   "metadata": {},
   "source": [
    "Now that we have our model, let's get the clusters and how many observations each cluster has."
   ]
  },
  {
   "cell_type": "code",
   "execution_count": 18,
   "id": "544b8e5b",
   "metadata": {},
   "outputs": [
    {
     "data": {
      "text/plain": [
       "0     75\n",
       "1    342\n",
       "2    313\n",
       "3    263\n",
       "4    150\n",
       "5    330\n",
       "Name: count, dtype: int64"
      ]
     },
     "execution_count": 18,
     "metadata": {},
     "output_type": "execute_result"
    }
   ],
   "source": [
    "clusters = kmeans.predict(scaled_df)\n",
    "#clusters\n",
    "pd.Series(clusters).value_counts().sort_index()"
   ]
  },
  {
   "cell_type": "code",
   "execution_count": 19,
   "id": "c12f3e92",
   "metadata": {},
   "outputs": [
    {
     "data": {
      "text/plain": [
       "array([1, 3, 5, ..., 2, 1, 1])"
      ]
     },
     "execution_count": 19,
     "metadata": {},
     "output_type": "execute_result"
    }
   ],
   "source": [
    "clusters"
   ]
  },
  {
   "cell_type": "code",
   "execution_count": 20,
   "id": "7ec044c4",
   "metadata": {},
   "outputs": [],
   "source": [
    "with open('kmeans_model.pickle', 'wb') as f:\n",
    "    pickle.dump(kmeans, f)"
   ]
  },
  {
   "cell_type": "code",
   "execution_count": 21,
   "id": "e850e905",
   "metadata": {},
   "outputs": [
    {
     "data": {
      "text/html": [
       "<div>\n",
       "<style scoped>\n",
       "    .dataframe tbody tr th:only-of-type {\n",
       "        vertical-align: middle;\n",
       "    }\n",
       "\n",
       "    .dataframe tbody tr th {\n",
       "        vertical-align: top;\n",
       "    }\n",
       "\n",
       "    .dataframe thead th {\n",
       "        text-align: right;\n",
       "    }\n",
       "</style>\n",
       "<table border=\"1\" class=\"dataframe\">\n",
       "  <thead>\n",
       "    <tr style=\"text-align: right;\">\n",
       "      <th></th>\n",
       "      <th>danceability</th>\n",
       "      <th>energy</th>\n",
       "      <th>key</th>\n",
       "      <th>loudness</th>\n",
       "      <th>mode</th>\n",
       "      <th>speechiness</th>\n",
       "      <th>acousticness</th>\n",
       "      <th>instrumentalness</th>\n",
       "      <th>liveness</th>\n",
       "      <th>valence</th>\n",
       "      <th>tempo</th>\n",
       "      <th>duration_ms</th>\n",
       "      <th>time_signature</th>\n",
       "      <th>cluster</th>\n",
       "    </tr>\n",
       "  </thead>\n",
       "  <tbody>\n",
       "    <tr>\n",
       "      <th>0</th>\n",
       "      <td>0.520319</td>\n",
       "      <td>0.403121</td>\n",
       "      <td>0.155294</td>\n",
       "      <td>0.816787</td>\n",
       "      <td>0.694184</td>\n",
       "      <td>-0.506695</td>\n",
       "      <td>-0.290501</td>\n",
       "      <td>-0.349655</td>\n",
       "      <td>-0.502811</td>\n",
       "      <td>-0.387373</td>\n",
       "      <td>0.276160</td>\n",
       "      <td>-0.128405</td>\n",
       "      <td>0.163282</td>\n",
       "      <td>1</td>\n",
       "    </tr>\n",
       "    <tr>\n",
       "      <th>1</th>\n",
       "      <td>-1.201826</td>\n",
       "      <td>-1.294036</td>\n",
       "      <td>0.975181</td>\n",
       "      <td>-0.767962</td>\n",
       "      <td>0.694184</td>\n",
       "      <td>-0.592775</td>\n",
       "      <td>-0.197642</td>\n",
       "      <td>-0.299393</td>\n",
       "      <td>-0.678863</td>\n",
       "      <td>-0.072418</td>\n",
       "      <td>-2.526637</td>\n",
       "      <td>0.528527</td>\n",
       "      <td>0.163282</td>\n",
       "      <td>3</td>\n",
       "    </tr>\n",
       "    <tr>\n",
       "      <th>2</th>\n",
       "      <td>0.111675</td>\n",
       "      <td>0.385018</td>\n",
       "      <td>-0.937888</td>\n",
       "      <td>0.930194</td>\n",
       "      <td>0.694184</td>\n",
       "      <td>-0.578960</td>\n",
       "      <td>-0.452145</td>\n",
       "      <td>-0.349738</td>\n",
       "      <td>-0.708713</td>\n",
       "      <td>-0.915024</td>\n",
       "      <td>-0.102684</td>\n",
       "      <td>-0.083871</td>\n",
       "      <td>0.163282</td>\n",
       "      <td>5</td>\n",
       "    </tr>\n",
       "    <tr>\n",
       "      <th>3</th>\n",
       "      <td>0.053297</td>\n",
       "      <td>-0.542761</td>\n",
       "      <td>1.248476</td>\n",
       "      <td>0.111309</td>\n",
       "      <td>0.694184</td>\n",
       "      <td>-0.585336</td>\n",
       "      <td>0.424860</td>\n",
       "      <td>-0.349738</td>\n",
       "      <td>-0.557637</td>\n",
       "      <td>-0.391463</td>\n",
       "      <td>0.897792</td>\n",
       "      <td>-0.206445</td>\n",
       "      <td>0.163282</td>\n",
       "      <td>5</td>\n",
       "    </tr>\n",
       "    <tr>\n",
       "      <th>4</th>\n",
       "      <td>0.461942</td>\n",
       "      <td>-0.452246</td>\n",
       "      <td>0.975181</td>\n",
       "      <td>0.298356</td>\n",
       "      <td>0.694184</td>\n",
       "      <td>-0.584274</td>\n",
       "      <td>0.001834</td>\n",
       "      <td>-0.349738</td>\n",
       "      <td>-0.539361</td>\n",
       "      <td>-0.035605</td>\n",
       "      <td>-1.447301</td>\n",
       "      <td>-0.693411</td>\n",
       "      <td>0.163282</td>\n",
       "      <td>1</td>\n",
       "    </tr>\n",
       "    <tr>\n",
       "      <th>...</th>\n",
       "      <td>...</td>\n",
       "      <td>...</td>\n",
       "      <td>...</td>\n",
       "      <td>...</td>\n",
       "      <td>...</td>\n",
       "      <td>...</td>\n",
       "      <td>...</td>\n",
       "      <td>...</td>\n",
       "      <td>...</td>\n",
       "      <td>...</td>\n",
       "      <td>...</td>\n",
       "      <td>...</td>\n",
       "      <td>...</td>\n",
       "      <td>...</td>\n",
       "    </tr>\n",
       "    <tr>\n",
       "      <th>1468</th>\n",
       "      <td>1.226691</td>\n",
       "      <td>0.185885</td>\n",
       "      <td>1.248476</td>\n",
       "      <td>0.456684</td>\n",
       "      <td>0.694184</td>\n",
       "      <td>1.651691</td>\n",
       "      <td>-0.761676</td>\n",
       "      <td>-0.349738</td>\n",
       "      <td>-0.846386</td>\n",
       "      <td>0.099376</td>\n",
       "      <td>-0.927986</td>\n",
       "      <td>-0.129479</td>\n",
       "      <td>0.163282</td>\n",
       "      <td>4</td>\n",
       "    </tr>\n",
       "    <tr>\n",
       "      <th>1469</th>\n",
       "      <td>1.331771</td>\n",
       "      <td>0.217565</td>\n",
       "      <td>0.975181</td>\n",
       "      <td>0.057060</td>\n",
       "      <td>0.694184</td>\n",
       "      <td>0.333917</td>\n",
       "      <td>-0.252669</td>\n",
       "      <td>-0.349486</td>\n",
       "      <td>-0.803135</td>\n",
       "      <td>0.864266</td>\n",
       "      <td>-0.964104</td>\n",
       "      <td>-0.419644</td>\n",
       "      <td>0.163282</td>\n",
       "      <td>1</td>\n",
       "    </tr>\n",
       "    <tr>\n",
       "      <th>1470</th>\n",
       "      <td>1.267555</td>\n",
       "      <td>0.905479</td>\n",
       "      <td>-1.211184</td>\n",
       "      <td>0.965787</td>\n",
       "      <td>-1.440540</td>\n",
       "      <td>0.387053</td>\n",
       "      <td>0.473009</td>\n",
       "      <td>-0.349301</td>\n",
       "      <td>0.307394</td>\n",
       "      <td>1.400098</td>\n",
       "      <td>-1.033719</td>\n",
       "      <td>-0.992383</td>\n",
       "      <td>0.163282</td>\n",
       "      <td>2</td>\n",
       "    </tr>\n",
       "    <tr>\n",
       "      <th>1471</th>\n",
       "      <td>0.806371</td>\n",
       "      <td>0.869273</td>\n",
       "      <td>-0.118001</td>\n",
       "      <td>0.617957</td>\n",
       "      <td>0.694184</td>\n",
       "      <td>0.174509</td>\n",
       "      <td>0.053422</td>\n",
       "      <td>-0.349738</td>\n",
       "      <td>-0.658760</td>\n",
       "      <td>0.655659</td>\n",
       "      <td>-0.931470</td>\n",
       "      <td>-0.640146</td>\n",
       "      <td>0.163282</td>\n",
       "      <td>1</td>\n",
       "    </tr>\n",
       "    <tr>\n",
       "      <th>1472</th>\n",
       "      <td>1.483553</td>\n",
       "      <td>0.638460</td>\n",
       "      <td>-1.484479</td>\n",
       "      <td>0.298602</td>\n",
       "      <td>0.694184</td>\n",
       "      <td>-0.256956</td>\n",
       "      <td>0.204749</td>\n",
       "      <td>-0.349724</td>\n",
       "      <td>-0.664243</td>\n",
       "      <td>0.864266</td>\n",
       "      <td>-0.895283</td>\n",
       "      <td>-0.552807</td>\n",
       "      <td>0.163282</td>\n",
       "      <td>1</td>\n",
       "    </tr>\n",
       "  </tbody>\n",
       "</table>\n",
       "<p>1473 rows × 14 columns</p>\n",
       "</div>"
      ],
      "text/plain": [
       "      danceability    energy       key  loudness      mode  speechiness  \\\n",
       "0         0.520319  0.403121  0.155294  0.816787  0.694184    -0.506695   \n",
       "1        -1.201826 -1.294036  0.975181 -0.767962  0.694184    -0.592775   \n",
       "2         0.111675  0.385018 -0.937888  0.930194  0.694184    -0.578960   \n",
       "3         0.053297 -0.542761  1.248476  0.111309  0.694184    -0.585336   \n",
       "4         0.461942 -0.452246  0.975181  0.298356  0.694184    -0.584274   \n",
       "...            ...       ...       ...       ...       ...          ...   \n",
       "1468      1.226691  0.185885  1.248476  0.456684  0.694184     1.651691   \n",
       "1469      1.331771  0.217565  0.975181  0.057060  0.694184     0.333917   \n",
       "1470      1.267555  0.905479 -1.211184  0.965787 -1.440540     0.387053   \n",
       "1471      0.806371  0.869273 -0.118001  0.617957  0.694184     0.174509   \n",
       "1472      1.483553  0.638460 -1.484479  0.298602  0.694184    -0.256956   \n",
       "\n",
       "      acousticness  instrumentalness  liveness   valence     tempo  \\\n",
       "0        -0.290501         -0.349655 -0.502811 -0.387373  0.276160   \n",
       "1        -0.197642         -0.299393 -0.678863 -0.072418 -2.526637   \n",
       "2        -0.452145         -0.349738 -0.708713 -0.915024 -0.102684   \n",
       "3         0.424860         -0.349738 -0.557637 -0.391463  0.897792   \n",
       "4         0.001834         -0.349738 -0.539361 -0.035605 -1.447301   \n",
       "...            ...               ...       ...       ...       ...   \n",
       "1468     -0.761676         -0.349738 -0.846386  0.099376 -0.927986   \n",
       "1469     -0.252669         -0.349486 -0.803135  0.864266 -0.964104   \n",
       "1470      0.473009         -0.349301  0.307394  1.400098 -1.033719   \n",
       "1471      0.053422         -0.349738 -0.658760  0.655659 -0.931470   \n",
       "1472      0.204749         -0.349724 -0.664243  0.864266 -0.895283   \n",
       "\n",
       "      duration_ms  time_signature  cluster  \n",
       "0       -0.128405        0.163282        1  \n",
       "1        0.528527        0.163282        3  \n",
       "2       -0.083871        0.163282        5  \n",
       "3       -0.206445        0.163282        5  \n",
       "4       -0.693411        0.163282        1  \n",
       "...           ...             ...      ...  \n",
       "1468    -0.129479        0.163282        4  \n",
       "1469    -0.419644        0.163282        1  \n",
       "1470    -0.992383        0.163282        2  \n",
       "1471    -0.640146        0.163282        1  \n",
       "1472    -0.552807        0.163282        1  \n",
       "\n",
       "[1473 rows x 14 columns]"
      ]
     },
     "execution_count": 21,
     "metadata": {},
     "output_type": "execute_result"
    }
   ],
   "source": [
    "scaled_df[\"cluster\"] = clusters\n",
    "scaled_df\n"
   ]
  },
  {
   "cell_type": "code",
   "execution_count": 22,
   "id": "7c659f0b",
   "metadata": {},
   "outputs": [
    {
     "data": {
      "text/html": [
       "<div>\n",
       "<style scoped>\n",
       "    .dataframe tbody tr th:only-of-type {\n",
       "        vertical-align: middle;\n",
       "    }\n",
       "\n",
       "    .dataframe tbody tr th {\n",
       "        vertical-align: top;\n",
       "    }\n",
       "\n",
       "    .dataframe thead th {\n",
       "        text-align: right;\n",
       "    }\n",
       "</style>\n",
       "<table border=\"1\" class=\"dataframe\">\n",
       "  <thead>\n",
       "    <tr style=\"text-align: right;\">\n",
       "      <th></th>\n",
       "      <th>danceability</th>\n",
       "      <th>energy</th>\n",
       "      <th>key</th>\n",
       "      <th>loudness</th>\n",
       "      <th>mode</th>\n",
       "      <th>speechiness</th>\n",
       "      <th>acousticness</th>\n",
       "      <th>instrumentalness</th>\n",
       "      <th>liveness</th>\n",
       "      <th>valence</th>\n",
       "      <th>tempo</th>\n",
       "      <th>duration_ms</th>\n",
       "      <th>time_signature</th>\n",
       "      <th>cluster</th>\n",
       "    </tr>\n",
       "  </thead>\n",
       "  <tbody>\n",
       "    <tr>\n",
       "      <th>221</th>\n",
       "      <td>-0.03427</td>\n",
       "      <td>0.502688</td>\n",
       "      <td>0.975181</td>\n",
       "      <td>1.220338</td>\n",
       "      <td>-1.44054</td>\n",
       "      <td>-0.622532</td>\n",
       "      <td>-0.895462</td>\n",
       "      <td>-0.341085</td>\n",
       "      <td>-0.405343</td>\n",
       "      <td>-0.825037</td>\n",
       "      <td>-0.878897</td>\n",
       "      <td>0.919853</td>\n",
       "      <td>0.163282</td>\n",
       "      <td>2</td>\n",
       "    </tr>\n",
       "  </tbody>\n",
       "</table>\n",
       "</div>"
      ],
      "text/plain": [
       "     danceability    energy       key  loudness     mode  speechiness  \\\n",
       "221      -0.03427  0.502688  0.975181  1.220338 -1.44054    -0.622532   \n",
       "\n",
       "     acousticness  instrumentalness  liveness   valence     tempo  \\\n",
       "221     -0.895462         -0.341085 -0.405343 -0.825037 -0.878897   \n",
       "\n",
       "     duration_ms  time_signature  cluster  \n",
       "221     0.919853        0.163282        2  "
      ]
     },
     "execution_count": 22,
     "metadata": {},
     "output_type": "execute_result"
    }
   ],
   "source": [
    "scaled_df[scaled_df['cluster'] == 2].sample()"
   ]
  },
  {
   "cell_type": "markdown",
   "id": "61ac0cb6",
   "metadata": {},
   "source": [
    "# Playing with the parameters"
   ]
  },
  {
   "cell_type": "code",
   "execution_count": 23,
   "id": "7261d411",
   "metadata": {},
   "outputs": [
    {
     "data": {
      "text/plain": [
       "12329.134049730143"
      ]
     },
     "execution_count": 23,
     "metadata": {},
     "output_type": "execute_result"
    }
   ],
   "source": [
    "kmeans.inertia_"
   ]
  },
  {
   "cell_type": "code",
   "execution_count": 24,
   "id": "683f216d",
   "metadata": {},
   "outputs": [
    {
     "name": "stdout",
     "output_type": "stream",
     "text": [
      "15986.452862282604\n"
     ]
    }
   ],
   "source": [
    "kmeans2 = KMeans(n_clusters=3,\n",
    "                init=\"k-means++\",\n",
    "                n_init=50,  # try with 1, 4, 8, 20, 30, 100...\n",
    "                max_iter=1,\n",
    "                tol=0,\n",
    "                algorithm=\"elkan\",\n",
    "                random_state=1234)\n",
    "kmeans2.fit(scaled_df)\n",
    "print(kmeans2.inertia_)"
   ]
  },
  {
   "cell_type": "markdown",
   "id": "4cd53aef",
   "metadata": {},
   "source": [
    "# Choosing K"
   ]
  },
  {
   "cell_type": "code",
   "execution_count": 25,
   "id": "277c2846",
   "metadata": {},
   "outputs": [
    {
     "name": "stdout",
     "output_type": "stream",
     "text": [
      "Training a K-Means model with 2 clusters! \n",
      "\n"
     ]
    },
    {
     "name": "stderr",
     "output_type": "stream",
     "text": [
      "C:\\Users\\User\\anaconda3\\Lib\\site-packages\\sklearn\\cluster\\_kmeans.py:1412: FutureWarning: The default value of `n_init` will change from 10 to 'auto' in 1.4. Set the value of `n_init` explicitly to suppress the warning\n",
      "  super()._check_params_vs_input(X, default_n_init=10)\n"
     ]
    },
    {
     "name": "stdout",
     "output_type": "stream",
     "text": [
      "Training a K-Means model with 3 clusters! \n",
      "\n"
     ]
    },
    {
     "name": "stderr",
     "output_type": "stream",
     "text": [
      "C:\\Users\\User\\anaconda3\\Lib\\site-packages\\sklearn\\cluster\\_kmeans.py:1412: FutureWarning: The default value of `n_init` will change from 10 to 'auto' in 1.4. Set the value of `n_init` explicitly to suppress the warning\n",
      "  super()._check_params_vs_input(X, default_n_init=10)\n"
     ]
    },
    {
     "name": "stdout",
     "output_type": "stream",
     "text": [
      "Training a K-Means model with 4 clusters! \n",
      "\n"
     ]
    },
    {
     "name": "stderr",
     "output_type": "stream",
     "text": [
      "C:\\Users\\User\\anaconda3\\Lib\\site-packages\\sklearn\\cluster\\_kmeans.py:1412: FutureWarning: The default value of `n_init` will change from 10 to 'auto' in 1.4. Set the value of `n_init` explicitly to suppress the warning\n",
      "  super()._check_params_vs_input(X, default_n_init=10)\n"
     ]
    },
    {
     "name": "stdout",
     "output_type": "stream",
     "text": [
      "Training a K-Means model with 5 clusters! \n",
      "\n"
     ]
    },
    {
     "name": "stderr",
     "output_type": "stream",
     "text": [
      "C:\\Users\\User\\anaconda3\\Lib\\site-packages\\sklearn\\cluster\\_kmeans.py:1412: FutureWarning: The default value of `n_init` will change from 10 to 'auto' in 1.4. Set the value of `n_init` explicitly to suppress the warning\n",
      "  super()._check_params_vs_input(X, default_n_init=10)\n"
     ]
    },
    {
     "name": "stdout",
     "output_type": "stream",
     "text": [
      "Training a K-Means model with 6 clusters! \n",
      "\n"
     ]
    },
    {
     "name": "stderr",
     "output_type": "stream",
     "text": [
      "C:\\Users\\User\\anaconda3\\Lib\\site-packages\\sklearn\\cluster\\_kmeans.py:1412: FutureWarning: The default value of `n_init` will change from 10 to 'auto' in 1.4. Set the value of `n_init` explicitly to suppress the warning\n",
      "  super()._check_params_vs_input(X, default_n_init=10)\n"
     ]
    },
    {
     "name": "stdout",
     "output_type": "stream",
     "text": [
      "Training a K-Means model with 7 clusters! \n",
      "\n"
     ]
    },
    {
     "name": "stderr",
     "output_type": "stream",
     "text": [
      "C:\\Users\\User\\anaconda3\\Lib\\site-packages\\sklearn\\cluster\\_kmeans.py:1412: FutureWarning: The default value of `n_init` will change from 10 to 'auto' in 1.4. Set the value of `n_init` explicitly to suppress the warning\n",
      "  super()._check_params_vs_input(X, default_n_init=10)\n"
     ]
    },
    {
     "name": "stdout",
     "output_type": "stream",
     "text": [
      "Training a K-Means model with 8 clusters! \n",
      "\n"
     ]
    },
    {
     "name": "stderr",
     "output_type": "stream",
     "text": [
      "C:\\Users\\User\\anaconda3\\Lib\\site-packages\\sklearn\\cluster\\_kmeans.py:1412: FutureWarning: The default value of `n_init` will change from 10 to 'auto' in 1.4. Set the value of `n_init` explicitly to suppress the warning\n",
      "  super()._check_params_vs_input(X, default_n_init=10)\n"
     ]
    },
    {
     "name": "stdout",
     "output_type": "stream",
     "text": [
      "Training a K-Means model with 9 clusters! \n",
      "\n"
     ]
    },
    {
     "name": "stderr",
     "output_type": "stream",
     "text": [
      "C:\\Users\\User\\anaconda3\\Lib\\site-packages\\sklearn\\cluster\\_kmeans.py:1412: FutureWarning: The default value of `n_init` will change from 10 to 'auto' in 1.4. Set the value of `n_init` explicitly to suppress the warning\n",
      "  super()._check_params_vs_input(X, default_n_init=10)\n"
     ]
    },
    {
     "name": "stdout",
     "output_type": "stream",
     "text": [
      "Training a K-Means model with 10 clusters! \n",
      "\n"
     ]
    },
    {
     "name": "stderr",
     "output_type": "stream",
     "text": [
      "C:\\Users\\User\\anaconda3\\Lib\\site-packages\\sklearn\\cluster\\_kmeans.py:1412: FutureWarning: The default value of `n_init` will change from 10 to 'auto' in 1.4. Set the value of `n_init` explicitly to suppress the warning\n",
      "  super()._check_params_vs_input(X, default_n_init=10)\n"
     ]
    },
    {
     "name": "stdout",
     "output_type": "stream",
     "text": [
      "Training a K-Means model with 11 clusters! \n",
      "\n"
     ]
    },
    {
     "name": "stderr",
     "output_type": "stream",
     "text": [
      "C:\\Users\\User\\anaconda3\\Lib\\site-packages\\sklearn\\cluster\\_kmeans.py:1412: FutureWarning: The default value of `n_init` will change from 10 to 'auto' in 1.4. Set the value of `n_init` explicitly to suppress the warning\n",
      "  super()._check_params_vs_input(X, default_n_init=10)\n"
     ]
    },
    {
     "name": "stdout",
     "output_type": "stream",
     "text": [
      "Training a K-Means model with 12 clusters! \n",
      "\n"
     ]
    },
    {
     "name": "stderr",
     "output_type": "stream",
     "text": [
      "C:\\Users\\User\\anaconda3\\Lib\\site-packages\\sklearn\\cluster\\_kmeans.py:1412: FutureWarning: The default value of `n_init` will change from 10 to 'auto' in 1.4. Set the value of `n_init` explicitly to suppress the warning\n",
      "  super()._check_params_vs_input(X, default_n_init=10)\n"
     ]
    },
    {
     "name": "stdout",
     "output_type": "stream",
     "text": [
      "Training a K-Means model with 13 clusters! \n",
      "\n"
     ]
    },
    {
     "name": "stderr",
     "output_type": "stream",
     "text": [
      "C:\\Users\\User\\anaconda3\\Lib\\site-packages\\sklearn\\cluster\\_kmeans.py:1412: FutureWarning: The default value of `n_init` will change from 10 to 'auto' in 1.4. Set the value of `n_init` explicitly to suppress the warning\n",
      "  super()._check_params_vs_input(X, default_n_init=10)\n"
     ]
    },
    {
     "name": "stdout",
     "output_type": "stream",
     "text": [
      "Training a K-Means model with 14 clusters! \n",
      "\n"
     ]
    },
    {
     "name": "stderr",
     "output_type": "stream",
     "text": [
      "C:\\Users\\User\\anaconda3\\Lib\\site-packages\\sklearn\\cluster\\_kmeans.py:1412: FutureWarning: The default value of `n_init` will change from 10 to 'auto' in 1.4. Set the value of `n_init` explicitly to suppress the warning\n",
      "  super()._check_params_vs_input(X, default_n_init=10)\n"
     ]
    },
    {
     "name": "stdout",
     "output_type": "stream",
     "text": [
      "Training a K-Means model with 15 clusters! \n",
      "\n"
     ]
    },
    {
     "name": "stderr",
     "output_type": "stream",
     "text": [
      "C:\\Users\\User\\anaconda3\\Lib\\site-packages\\sklearn\\cluster\\_kmeans.py:1412: FutureWarning: The default value of `n_init` will change from 10 to 'auto' in 1.4. Set the value of `n_init` explicitly to suppress the warning\n",
      "  super()._check_params_vs_input(X, default_n_init=10)\n"
     ]
    },
    {
     "name": "stdout",
     "output_type": "stream",
     "text": [
      "Training a K-Means model with 16 clusters! \n",
      "\n"
     ]
    },
    {
     "name": "stderr",
     "output_type": "stream",
     "text": [
      "C:\\Users\\User\\anaconda3\\Lib\\site-packages\\sklearn\\cluster\\_kmeans.py:1412: FutureWarning: The default value of `n_init` will change from 10 to 'auto' in 1.4. Set the value of `n_init` explicitly to suppress the warning\n",
      "  super()._check_params_vs_input(X, default_n_init=10)\n"
     ]
    },
    {
     "name": "stdout",
     "output_type": "stream",
     "text": [
      "Training a K-Means model with 17 clusters! \n",
      "\n"
     ]
    },
    {
     "name": "stderr",
     "output_type": "stream",
     "text": [
      "C:\\Users\\User\\anaconda3\\Lib\\site-packages\\sklearn\\cluster\\_kmeans.py:1412: FutureWarning: The default value of `n_init` will change from 10 to 'auto' in 1.4. Set the value of `n_init` explicitly to suppress the warning\n",
      "  super()._check_params_vs_input(X, default_n_init=10)\n"
     ]
    },
    {
     "name": "stdout",
     "output_type": "stream",
     "text": [
      "Training a K-Means model with 18 clusters! \n",
      "\n"
     ]
    },
    {
     "name": "stderr",
     "output_type": "stream",
     "text": [
      "C:\\Users\\User\\anaconda3\\Lib\\site-packages\\sklearn\\cluster\\_kmeans.py:1412: FutureWarning: The default value of `n_init` will change from 10 to 'auto' in 1.4. Set the value of `n_init` explicitly to suppress the warning\n",
      "  super()._check_params_vs_input(X, default_n_init=10)\n"
     ]
    },
    {
     "name": "stdout",
     "output_type": "stream",
     "text": [
      "Training a K-Means model with 19 clusters! \n",
      "\n"
     ]
    },
    {
     "name": "stderr",
     "output_type": "stream",
     "text": [
      "C:\\Users\\User\\anaconda3\\Lib\\site-packages\\sklearn\\cluster\\_kmeans.py:1412: FutureWarning: The default value of `n_init` will change from 10 to 'auto' in 1.4. Set the value of `n_init` explicitly to suppress the warning\n",
      "  super()._check_params_vs_input(X, default_n_init=10)\n"
     ]
    },
    {
     "name": "stdout",
     "output_type": "stream",
     "text": [
      "Training a K-Means model with 20 clusters! \n",
      "\n"
     ]
    },
    {
     "name": "stderr",
     "output_type": "stream",
     "text": [
      "C:\\Users\\User\\anaconda3\\Lib\\site-packages\\sklearn\\cluster\\_kmeans.py:1412: FutureWarning: The default value of `n_init` will change from 10 to 'auto' in 1.4. Set the value of `n_init` explicitly to suppress the warning\n",
      "  super()._check_params_vs_input(X, default_n_init=10)\n"
     ]
    },
    {
     "data": {
      "text/plain": [
       "Text(0.5, 1.0, 'Elbow Method showing the optimal k')"
      ]
     },
     "execution_count": 25,
     "metadata": {},
     "output_type": "execute_result"
    },
    {
     "data": {
      "image/png": "[encoded data removed]",
      "text/plain": [
       "<Figure size 1600x800 with 1 Axes>"
      ]
     },
     "metadata": {},
     "output_type": "display_data"
    }
   ],
   "source": [
    "K = range(2, 21)\n",
    "inertia = []\n",
    "\n",
    "for k in K:\n",
    "    print(\"Training a K-Means model with {} clusters! \".format(k))\n",
    "    print()\n",
    "    kmeans = KMeans(n_clusters=k,\n",
    "                    random_state=1234)\n",
    "    kmeans.fit(scaled_df)\n",
    "    inertia.append(kmeans.inertia_)\n",
    "\n",
    "import numpy as np\n",
    "import matplotlib.pyplot as plt\n",
    "%matplotlib inline\n",
    "\n",
    "plt.figure(figsize=(16,8))\n",
    "plt.plot(K, inertia, 'bx-')\n",
    "plt.xlabel('k')\n",
    "plt.ylabel('inertia')\n",
    "plt.xticks(np.arange(min(K), max(K)+1, 1.0))\n",
    "plt.title('Elbow Method showing the optimal k')"
   ]
  },
  {
   "cell_type": "markdown",
   "id": "eba3ae21",
   "metadata": {},
   "source": [
    "# Silhouette"
   ]
  },
  {
   "cell_type": "code",
   "execution_count": 26,
   "id": "39fe40d7",
   "metadata": {},
   "outputs": [],
   "source": [
    "import pickle"
   ]
  },
  {
   "cell_type": "code",
   "execution_count": 27,
   "id": "82fc120e",
   "metadata": {},
   "outputs": [
    {
     "data": {
      "text/plain": [
       "Text(0.5, 1.0, 'Silhouette Method showing the optimal k')"
      ]
     },
     "execution_count": 27,
     "metadata": {},
     "output_type": "execute_result"
    },
    {
     "data": {
      "image/png": "[encoded data removed]",
      "text/plain": [
       "<Figure size 1600x800 with 1 Axes>"
      ]
     },
     "metadata": {},
     "output_type": "display_data"
    }
   ],
   "source": [
    "K = range(2, 20)\n",
    "silhouette = []\n",
    "\n",
    "for k in K:\n",
    "    kmeans = KMeans(n_clusters=k,\n",
    "                    random_state=1234, n_init=10)\n",
    "    kmeans.fit(scaled_df)\n",
    "    \n",
    "    filename = \"kmeans_\" + str(k) + \".pickle\"\n",
    "    with open(filename, \"wb\") as f:\n",
    "        pickle.dump(kmeans,f)\n",
    "    \n",
    "    silhouette.append(silhouette_score(scaled_df, kmeans.predict(scaled_df)))\n",
    "\n",
    "\n",
    "plt.figure(figsize=(16,8))\n",
    "plt.plot(K, silhouette, 'bx-')\n",
    "plt.xlabel('k')\n",
    "plt.ylabel('silhouette score')\n",
    "plt.xticks(np.arange(min(K), max(K)+1, 1.0))\n",
    "plt.title('Silhouette Method showing the optimal k')"
   ]
  },
  {
   "cell_type": "code",
   "execution_count": 28,
   "id": "3d7cd899",
   "metadata": {},
   "outputs": [],
   "source": [
    "final_df = pd.concat([scaled_df, spotify_df['id']], axis=1)\n",
    "final_df.to_csv('final_df.csv', index=False)"
   ]
  },
  {
   "cell_type": "markdown",
   "id": "1df88186",
   "metadata": {},
   "source": [
    "The greater the Silhouette, the greater the separation between the clusters. In other words, the clusters will be more defined."
   ]
  },
  {
   "cell_type": "markdown",
   "id": "4c477778",
   "metadata": {},
   "source": [
    "# advanced (optional)"
   ]
  },
  {
   "cell_type": "code",
   "execution_count": 75,
   "id": "09dee888",
   "metadata": {},
   "outputs": [
    {
     "name": "stdout",
     "output_type": "stream",
     "text": [
      "Collecting package metadata (current_repodata.json): done\n",
      "Solving environment: | ^C\n",
      "failed with initial frozen solve. Retrying with flexible solve.\n",
      "\n",
      "CondaError: KeyboardInterrupt\n",
      "\n",
      "\n",
      "Note: you may need to restart the kernel to use updated packages.\n"
     ]
    }
   ],
   "source": [
    "#conda install -c districtdatalabs yellowbrick"
   ]
  },
  {
   "cell_type": "code",
   "execution_count": 71,
   "id": "a909df4f",
   "metadata": {},
   "outputs": [],
   "source": [
    "#from yellowbrick.cluster import SilhouetteVisualizer\n",
    "#model = KMeans(6, random_state=42)\n",
    "#visualizer = SilhouetteVisualizer(model, colors='yellowbrick')\n",
    "#visualizer.fit(X_#scaled_df)        # Fit the data to the visualizer\n",
    "#visualizer.show()  "
   ]
  },
  {
   "cell_type": "code",
   "execution_count": null,
   "id": "c18e43ba",
   "metadata": {},
   "outputs": [],
   "source": [
    "#visualizer.show()"
   ]
  },
  {
   "cell_type": "markdown",
   "id": "dcde65cf",
   "metadata": {},
   "source": [
    "# Saving with pickle¶"
   ]
  },
  {
   "cell_type": "code",
   "execution_count": 70,
   "id": "f3a012bd",
   "metadata": {},
   "outputs": [],
   "source": [
    "def save(model, filename = \"filename.pickle\"):\n",
    "    with open(filename, \"wb\") as f:\n",
    "        pickle.dump(model, f)"
   ]
  },
  {
   "cell_type": "code",
   "execution_count": 71,
   "id": "9749ba8e",
   "metadata": {},
   "outputs": [],
   "source": [
    "save(kmeans,'kmeans_model.pickle')"
   ]
  },
  {
   "cell_type": "code",
   "execution_count": 72,
   "id": "1241e162",
   "metadata": {},
   "outputs": [],
   "source": [
    "def load(filename = \"filename.pickle\"): \n",
    "    try: \n",
    "        with open(filename, \"rb\") as f: \n",
    "            return pickle.load(f) \n",
    "        \n",
    "    except FileNotFoundError: \n",
    "        print(\"File not found!\")"
   ]
  },
  {
   "cell_type": "code",
   "execution_count": 73,
   "id": "f30ac968",
   "metadata": {
    "scrolled": true
   },
   "outputs": [],
   "source": [
    "save(scaler,\"scaler.pickle\")"
   ]
  },
  {
   "cell_type": "code",
   "execution_count": 74,
   "id": "a706ab61",
   "metadata": {},
   "outputs": [
    {
     "name": "stdout",
     "output_type": "stream",
     "text": [
      "File not found!\n"
     ]
    }
   ],
   "source": [
    "scaler= load(filename=\"Model/scaler.pickle\")"
   ]
  },
  {
   "cell_type": "code",
   "execution_count": 75,
   "id": "5d9746c8",
   "metadata": {},
   "outputs": [
    {
     "name": "stdout",
     "output_type": "stream",
     "text": [
      "File not found!\n"
     ]
    }
   ],
   "source": [
    "kmeans_model = load(filename=\"Model/kmeans_4.pickle\")"
   ]
  },
  {
   "cell_type": "code",
   "execution_count": 76,
   "id": "89c766fd",
   "metadata": {},
   "outputs": [],
   "source": [
    "kmeans_model"
   ]
  },
  {
   "cell_type": "code",
   "execution_count": 77,
   "id": "636cc7f3",
   "metadata": {},
   "outputs": [
    {
     "name": "stdout",
     "output_type": "stream",
     "text": [
      "File not found!\n"
     ]
    }
   ],
   "source": [
    "scaler2 = load(\"Model/scaler.pickle\")"
   ]
  },
  {
   "cell_type": "markdown",
   "id": "08fcd75a",
   "metadata": {},
   "source": [
    "This code performs k-means clustering on your data for different values of k (number of clusters) within the range of 2 to 19. For each k, it fits a k-means model, computes the silhouette score, and saves the trained k-means model using pickle. Here's a breakdown:\n",
    "\n",
    "K = range(2, 20): This line creates a range of values from 2 to 19 (inclusive) and assigns it to the variable K. This will be used as the range for the number of clusters in k-means.\n",
    "\n",
    "silhouette = []: This initializes an empty list named silhouette to store the silhouette scores for different values of k.\n",
    "\n",
    "for k in K:: This is a loop that iterates over each value of k in the range defined by K.\n",
    "\n",
    "kmeans = KMeans(n_clusters=k, random_state=1234, n_init='auto'): This line creates a k-means clustering model with k clusters. random_state ensures reproducibility, and n_init='auto' automatically determines the number of times the algorithm will be run with different centroid seeds. This is done to increase the chances of finding a better clustering solution.\n",
    "\n",
    "kmeans.fit(scaled_df): This fits the k-means model to the scaled data (scaled_df).\n",
    "\n",
    "filename = \"kmeans_\" + str(k) + \".pickle\": This line generates a filename based on the value of k and appends it with \".pickle\". For example, if k is 2, the filename will be \"kmeans_2.pickle\".\n",
    "\n",
    "with open(filename, \"wb\") as f:: This opens a file with the generated filename in write-binary mode.\n",
    "\n",
    "pickle.dump(kmeans, f): This saves the trained k-means model to the file using pickle.\n",
    "\n",
    "silhouette.append(silhouette_score(scaled_df, kmeans.predict(scaled_df))): This computes the silhouette score for the current k-means model and appends it to the silhouette list. The silhouette score is a metric that measures how similar an object is to its own cluster (cohesion) compared to other clusters (separation).\n",
    "\n",
    "The loop continues for each value of k in the specified range, and after the loop, you should have a list of silhouette scores for each k, and each trained k-means model saved in a corresponding pickle file."
   ]
  },
  {
   "cell_type": "code",
   "execution_count": null,
   "id": "0e584fe2",
   "metadata": {},
   "outputs": [],
   "source": []
  }
 ],
 "metadata": {
  "kernelspec": {
   "display_name": "Python 3 (ipykernel)",
   "language": "python",
   "name": "python3"
  },
  "language_info": {
   "codemirror_mode": {
    "name": "ipython",
    "version": 3
   },
   "file_extension": ".py",
   "mimetype": "text/x-python",
   "name": "python",
   "nbconvert_exporter": "python",
   "pygments_lexer": "ipython3",
   "version": "3.11.5"
  }
 },
 "nbformat": 4,
 "nbformat_minor": 5
}
