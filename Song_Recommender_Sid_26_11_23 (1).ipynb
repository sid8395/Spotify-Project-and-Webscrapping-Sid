{
 "cells": [
  {
   "cell_type": "code",
   "execution_count": 91,
   "id": "863f8190",
   "metadata": {
    "id": "863f8190"
   },
   "outputs": [],
   "source": [
    "# please create a program hich asks user to inout a name of song check if the song is in hot100 billboard_df\n",
    "# if yes recommend another song  if no check in rock_df yes or no"
   ]
  },
  {
   "cell_type": "code",
   "execution_count": 1,
   "id": "52b8f36f",
   "metadata": {},
   "outputs": [],
   "source": [
    "import config"
   ]
  },
  {
   "cell_type": "code",
   "execution_count": 2,
   "id": "p9j6k1uQ8L4R",
   "metadata": {
    "id": "p9j6k1uQ8L4R"
   },
   "outputs": [],
   "source": [
    "import csv\n",
    "import pandas as pd\n",
    "import numpy as np\n",
    "import random\n",
    "import pickle\n",
    "import spotipy\n",
    "from sklearn.preprocessing import StandardScaler\n",
    "from spotipy.oauth2 import SpotifyClientCredentials\n",
    "from IPython.display import IFrame\n",
    "import spotipy\n",
    "import pandas as pd\n",
    "import json\n",
    "from spotipy.oauth2 import SpotifyClientCredentials\n",
    "\n",
    "\n",
    "#Initialize SpotiPy with user credentials\n",
    "sp = spotipy.Spotify(auth_manager=SpotifyClientCredentials(client_id= config.client_id,\n",
    "                                                           client_secret= config.client_secret))\n",
    "\n",
    "hot_100_df = pd.read_csv(\"hot_100_df1.csv\")\n",
    "\n",
    "\n",
    "# top_28_rock_df = pd.read_csv(\"top28_rock_songs_df.csv\")"
   ]
  },
  {
   "cell_type": "code",
   "execution_count": 3,
   "id": "ca22aa82",
   "metadata": {},
   "outputs": [],
   "source": [
    "with open('kmeans_model.pickle', 'rb') as file:\n",
    "    kmeans_model = pickle.load(file)"
   ]
  },
  {
   "cell_type": "code",
   "execution_count": 4,
   "id": "226daaa5",
   "metadata": {},
   "outputs": [],
   "source": [
    "final_df = pd.read_csv('final_df.csv')"
   ]
  },
  {
   "cell_type": "code",
   "execution_count": 5,
   "id": "6c0254f2",
   "metadata": {},
   "outputs": [
    {
     "data": {
      "text/html": [
       "<style>#sk-container-id-1 {color: black;}#sk-container-id-1 pre{padding: 0;}#sk-container-id-1 div.sk-toggleable {background-color: white;}#sk-container-id-1 label.sk-toggleable__label {cursor: pointer;display: block;width: 100%;margin-bottom: 0;padding: 0.3em;box-sizing: border-box;text-align: center;}#sk-container-id-1 label.sk-toggleable__label-arrow:before {content: \"▸\";float: left;margin-right: 0.25em;color: #696969;}#sk-container-id-1 label.sk-toggleable__label-arrow:hover:before {color: black;}#sk-container-id-1 div.sk-estimator:hover label.sk-toggleable__label-arrow:before {color: black;}#sk-container-id-1 div.sk-toggleable__content {max-height: 0;max-width: 0;overflow: hidden;text-align: left;background-color: #f0f8ff;}#sk-container-id-1 div.sk-toggleable__content pre {margin: 0.2em;color: black;border-radius: 0.25em;background-color: #f0f8ff;}#sk-container-id-1 input.sk-toggleable__control:checked~div.sk-toggleable__content {max-height: 200px;max-width: 100%;overflow: auto;}#sk-container-id-1 input.sk-toggleable__control:checked~label.sk-toggleable__label-arrow:before {content: \"▾\";}#sk-container-id-1 div.sk-estimator input.sk-toggleable__control:checked~label.sk-toggleable__label {background-color: #d4ebff;}#sk-container-id-1 div.sk-label input.sk-toggleable__control:checked~label.sk-toggleable__label {background-color: #d4ebff;}#sk-container-id-1 input.sk-hidden--visually {border: 0;clip: rect(1px 1px 1px 1px);clip: rect(1px, 1px, 1px, 1px);height: 1px;margin: -1px;overflow: hidden;padding: 0;position: absolute;width: 1px;}#sk-container-id-1 div.sk-estimator {font-family: monospace;background-color: #f0f8ff;border: 1px dotted black;border-radius: 0.25em;box-sizing: border-box;margin-bottom: 0.5em;}#sk-container-id-1 div.sk-estimator:hover {background-color: #d4ebff;}#sk-container-id-1 div.sk-parallel-item::after {content: \"\";width: 100%;border-bottom: 1px solid gray;flex-grow: 1;}#sk-container-id-1 div.sk-label:hover label.sk-toggleable__label {background-color: #d4ebff;}#sk-container-id-1 div.sk-serial::before {content: \"\";position: absolute;border-left: 1px solid gray;box-sizing: border-box;top: 0;bottom: 0;left: 50%;z-index: 0;}#sk-container-id-1 div.sk-serial {display: flex;flex-direction: column;align-items: center;background-color: white;padding-right: 0.2em;padding-left: 0.2em;position: relative;}#sk-container-id-1 div.sk-item {position: relative;z-index: 1;}#sk-container-id-1 div.sk-parallel {display: flex;align-items: stretch;justify-content: center;background-color: white;position: relative;}#sk-container-id-1 div.sk-item::before, #sk-container-id-1 div.sk-parallel-item::before {content: \"\";position: absolute;border-left: 1px solid gray;box-sizing: border-box;top: 0;bottom: 0;left: 50%;z-index: -1;}#sk-container-id-1 div.sk-parallel-item {display: flex;flex-direction: column;z-index: 1;position: relative;background-color: white;}#sk-container-id-1 div.sk-parallel-item:first-child::after {align-self: flex-end;width: 50%;}#sk-container-id-1 div.sk-parallel-item:last-child::after {align-self: flex-start;width: 50%;}#sk-container-id-1 div.sk-parallel-item:only-child::after {width: 0;}#sk-container-id-1 div.sk-dashed-wrapped {border: 1px dashed gray;margin: 0 0.4em 0.5em 0.4em;box-sizing: border-box;padding-bottom: 0.4em;background-color: white;}#sk-container-id-1 div.sk-label label {font-family: monospace;font-weight: bold;display: inline-block;line-height: 1.2em;}#sk-container-id-1 div.sk-label-container {text-align: center;}#sk-container-id-1 div.sk-container {/* jupyter's `normalize.less` sets `[hidden] { display: none; }` but bootstrap.min.css set `[hidden] { display: none !important; }` so we also need the `!important` here to be able to override the default hidden behavior on the sphinx rendered scikit-learn.org. See: https://github.com/scikit-learn/scikit-learn/issues/21755 */display: inline-block !important;position: relative;}#sk-container-id-1 div.sk-text-repr-fallback {display: none;}</style><div id=\"sk-container-id-1\" class=\"sk-top-container\"><div class=\"sk-text-repr-fallback\"><pre>KMeans(n_clusters=6, random_state=1234)</pre><b>In a Jupyter environment, please rerun this cell to show the HTML representation or trust the notebook. <br />On GitHub, the HTML representation is unable to render, please try loading this page with nbviewer.org.</b></div><div class=\"sk-container\" hidden><div class=\"sk-item\"><div class=\"sk-estimator sk-toggleable\"><input class=\"sk-toggleable__control sk-hidden--visually\" id=\"sk-estimator-id-1\" type=\"checkbox\" checked><label for=\"sk-estimator-id-1\" class=\"sk-toggleable__label sk-toggleable__label-arrow\">KMeans</label><div class=\"sk-toggleable__content\"><pre>KMeans(n_clusters=6, random_state=1234)</pre></div></div></div></div></div>"
      ],
      "text/plain": [
       "KMeans(n_clusters=6, random_state=1234)"
      ]
     },
     "execution_count": 5,
     "metadata": {},
     "output_type": "execute_result"
    }
   ],
   "source": [
    "kmeans_model"
   ]
  },
  {
   "cell_type": "code",
   "execution_count": 6,
   "id": "a11e9185",
   "metadata": {},
   "outputs": [
    {
     "data": {
      "text/html": [
       "<div>\n",
       "<style scoped>\n",
       "    .dataframe tbody tr th:only-of-type {\n",
       "        vertical-align: middle;\n",
       "    }\n",
       "\n",
       "    .dataframe tbody tr th {\n",
       "        vertical-align: top;\n",
       "    }\n",
       "\n",
       "    .dataframe thead th {\n",
       "        text-align: right;\n",
       "    }\n",
       "</style>\n",
       "<table border=\"1\" class=\"dataframe\">\n",
       "  <thead>\n",
       "    <tr style=\"text-align: right;\">\n",
       "      <th></th>\n",
       "      <th>danceability</th>\n",
       "      <th>energy</th>\n",
       "      <th>key</th>\n",
       "      <th>loudness</th>\n",
       "      <th>mode</th>\n",
       "      <th>speechiness</th>\n",
       "      <th>acousticness</th>\n",
       "      <th>instrumentalness</th>\n",
       "      <th>liveness</th>\n",
       "      <th>valence</th>\n",
       "      <th>tempo</th>\n",
       "      <th>duration_ms</th>\n",
       "      <th>time_signature</th>\n",
       "      <th>cluster</th>\n",
       "      <th>id</th>\n",
       "    </tr>\n",
       "  </thead>\n",
       "  <tbody>\n",
       "    <tr>\n",
       "      <th>0</th>\n",
       "      <td>0.520319</td>\n",
       "      <td>0.403121</td>\n",
       "      <td>0.155294</td>\n",
       "      <td>0.816787</td>\n",
       "      <td>0.694184</td>\n",
       "      <td>-0.506695</td>\n",
       "      <td>-0.290501</td>\n",
       "      <td>-0.349655</td>\n",
       "      <td>-0.502811</td>\n",
       "      <td>-0.387373</td>\n",
       "      <td>0.276160</td>\n",
       "      <td>-0.128405</td>\n",
       "      <td>0.163282</td>\n",
       "      <td>1</td>\n",
       "      <td>1GEBsLDvJGw7kviySRI6GX</td>\n",
       "    </tr>\n",
       "    <tr>\n",
       "      <th>1</th>\n",
       "      <td>-1.201826</td>\n",
       "      <td>-1.294036</td>\n",
       "      <td>0.975181</td>\n",
       "      <td>-0.767962</td>\n",
       "      <td>0.694184</td>\n",
       "      <td>-0.592775</td>\n",
       "      <td>-0.197642</td>\n",
       "      <td>-0.299393</td>\n",
       "      <td>-0.678863</td>\n",
       "      <td>-0.072418</td>\n",
       "      <td>-2.526637</td>\n",
       "      <td>0.528527</td>\n",
       "      <td>0.163282</td>\n",
       "      <td>3</td>\n",
       "      <td>3fqwjXwUGN6vbzIwvyFMhx</td>\n",
       "    </tr>\n",
       "    <tr>\n",
       "      <th>2</th>\n",
       "      <td>0.111675</td>\n",
       "      <td>0.385018</td>\n",
       "      <td>-0.937888</td>\n",
       "      <td>0.930194</td>\n",
       "      <td>0.694184</td>\n",
       "      <td>-0.578960</td>\n",
       "      <td>-0.452145</td>\n",
       "      <td>-0.349738</td>\n",
       "      <td>-0.708713</td>\n",
       "      <td>-0.915024</td>\n",
       "      <td>-0.102684</td>\n",
       "      <td>-0.083871</td>\n",
       "      <td>0.163282</td>\n",
       "      <td>5</td>\n",
       "      <td>1D4PL9B8gOg78jiHg3FvBb</td>\n",
       "    </tr>\n",
       "    <tr>\n",
       "      <th>3</th>\n",
       "      <td>0.053297</td>\n",
       "      <td>-0.542761</td>\n",
       "      <td>1.248476</td>\n",
       "      <td>0.111309</td>\n",
       "      <td>0.694184</td>\n",
       "      <td>-0.585336</td>\n",
       "      <td>0.424860</td>\n",
       "      <td>-0.349738</td>\n",
       "      <td>-0.557637</td>\n",
       "      <td>-0.391463</td>\n",
       "      <td>0.897792</td>\n",
       "      <td>-0.206445</td>\n",
       "      <td>0.163282</td>\n",
       "      <td>5</td>\n",
       "      <td>10M2Ex445zw585Ducldzkw</td>\n",
       "    </tr>\n",
       "    <tr>\n",
       "      <th>4</th>\n",
       "      <td>0.461942</td>\n",
       "      <td>-0.452246</td>\n",
       "      <td>0.975181</td>\n",
       "      <td>0.298356</td>\n",
       "      <td>0.694184</td>\n",
       "      <td>-0.584274</td>\n",
       "      <td>0.001834</td>\n",
       "      <td>-0.349738</td>\n",
       "      <td>-0.539361</td>\n",
       "      <td>-0.035605</td>\n",
       "      <td>-1.447301</td>\n",
       "      <td>-0.693411</td>\n",
       "      <td>0.163282</td>\n",
       "      <td>1</td>\n",
       "      <td>1HXy5I3HTWq8OvxCn0z7G7</td>\n",
       "    </tr>\n",
       "  </tbody>\n",
       "</table>\n",
       "</div>"
      ],
      "text/plain": [
       "   danceability    energy       key  loudness      mode  speechiness  \\\n",
       "0      0.520319  0.403121  0.155294  0.816787  0.694184    -0.506695   \n",
       "1     -1.201826 -1.294036  0.975181 -0.767962  0.694184    -0.592775   \n",
       "2      0.111675  0.385018 -0.937888  0.930194  0.694184    -0.578960   \n",
       "3      0.053297 -0.542761  1.248476  0.111309  0.694184    -0.585336   \n",
       "4      0.461942 -0.452246  0.975181  0.298356  0.694184    -0.584274   \n",
       "\n",
       "   acousticness  instrumentalness  liveness   valence     tempo  duration_ms  \\\n",
       "0     -0.290501         -0.349655 -0.502811 -0.387373  0.276160    -0.128405   \n",
       "1     -0.197642         -0.299393 -0.678863 -0.072418 -2.526637     0.528527   \n",
       "2     -0.452145         -0.349738 -0.708713 -0.915024 -0.102684    -0.083871   \n",
       "3      0.424860         -0.349738 -0.557637 -0.391463  0.897792    -0.206445   \n",
       "4      0.001834         -0.349738 -0.539361 -0.035605 -1.447301    -0.693411   \n",
       "\n",
       "   time_signature  cluster                      id  \n",
       "0        0.163282        1  1GEBsLDvJGw7kviySRI6GX  \n",
       "1        0.163282        3  3fqwjXwUGN6vbzIwvyFMhx  \n",
       "2        0.163282        5  1D4PL9B8gOg78jiHg3FvBb  \n",
       "3        0.163282        5  10M2Ex445zw585Ducldzkw  \n",
       "4        0.163282        1  1HXy5I3HTWq8OvxCn0z7G7  "
      ]
     },
     "execution_count": 6,
     "metadata": {},
     "output_type": "execute_result"
    }
   ],
   "source": [
    "final_df.head()"
   ]
  },
  {
   "cell_type": "code",
   "execution_count": 7,
   "id": "8hVuk4zNATah",
   "metadata": {
    "id": "8hVuk4zNATah"
   },
   "outputs": [],
   "source": [
    "hot_100 = {song.lower(): {'song': song, 'artist': artist} for song, artist in zip(hot_100_df['song'], hot_100_df['artist'])}"
   ]
  },
  {
   "cell_type": "code",
   "execution_count": 8,
   "id": "f4c5080d",
   "metadata": {},
   "outputs": [],
   "source": [
    "def play_song(track_id):\n",
    "    return IFrame(src=\"https://open.spotify.com/embed/track/\"+track_id,\n",
    "       width=\"320\",\n",
    "       height=\"80\",\n",
    "       frameborder=\"0\",\n",
    "       allowtransparency=\"true\",\n",
    "       allow=\"encrypted-media\",\n",
    "      )"
   ]
  },
  {
   "cell_type": "code",
   "execution_count": null,
   "id": "3kdA4o-A8L5z",
   "metadata": {
    "colab": {
     "base_uri": "https://localhost:8080/"
    },
    "id": "3kdA4o-A8L5z",
    "outputId": "5ea81709-b130-4212-8618-c0816f31fc3d"
   },
   "outputs": [],
   "source": [
    "user_song = input(\"Please input name of a song: \").lower()"
   ]
  },
  {
   "cell_type": "code",
   "execution_count": null,
   "id": "MwlTfOY-6Ep8",
   "metadata": {
    "colab": {
     "base_uri": "https://localhost:8080/"
    },
    "id": "MwlTfOY-6Ep8",
    "outputId": "6d3f79f9-70d4-436a-d051-7be775821378"
   },
   "outputs": [],
   "source": [
    "scaler = StandardScaler()\n",
    "\n",
    "if user_song in hot_100:\n",
    "    suggest_songs = [song for song in hot_100 if song != user_song]\n",
    "\n",
    "if suggest_songs:\n",
    "    random_song = random.choice(suggest_songs)\n",
    "    print(f\"{hot_100[user_song]['song']} by {hot_100[user_song]['artist']} is on the Hot 100 list.\\n\\nYou may also like this other Hot 100 song:\\n\\n{hot_100[random_song]['song']} by {hot_100[random_song]['artist']}\")\n",
    "    \n",
    "else:\n",
    "    results = sp.search(q=user_song, type='track', limit=1)\n",
    "    \n",
    "    if results['tracks']['items']:\n",
    "        track_id = results['tracks']['items'][0]['id']\n",
    "        audio_features = sp.audio_features([track_id])\n",
    "        \n",
    "    else:\n",
    "        print(\"Song not found.\")\n",
    "    \n",
    "    df = pd.DataFrame(audio_features)\n",
    "    reqd_features = df.select_dtypes(include='number')\n",
    "    scaled_features = scaler.fit_transform(reqd_features)\n",
    "    pred_cluster = kmeans_model.predict(scaled_features)\n",
    "    \n",
    "    random_id = np.random.choice(final_df['id'].values)\n",
    "    \n",
    "    random_track = sp.track(random_id)\n",
    "    \n",
    "    print(f\"Your inputted song is not on the Hot 100 list.\\n\\nYou may however like {random_track['name']} by {random_track['artists'][0]['name']}\\n\\n\")\n",
    "    \n",
    "    print(\"The original song you had inputted:\\n\")\n",
    "    display(play_song(track_id))\n",
    "    \n",
    "    print(\"The song recommended by our system:\\n\")\n",
    "    display(play_song(random_id))"
   ]
  },
  {
   "cell_type": "code",
   "execution_count": null,
   "id": "dcc3fd8f",
   "metadata": {},
   "outputs": [],
   "source": []
  }
 ],
 "metadata": {
  "colab": {
   "provenance": []
  },
  "kernelspec": {
   "display_name": "Python 3 (ipykernel)",
   "language": "python",
   "name": "python3"
  },
  "language_info": {
   "codemirror_mode": {
    "name": "ipython",
    "version": 3
   },
   "file_extension": ".py",
   "mimetype": "text/x-python",
   "name": "python",
   "nbconvert_exporter": "python",
   "pygments_lexer": "ipython3",
   "version": "3.11.5"
  }
 },
 "nbformat": 4,
 "nbformat_minor": 5
}
